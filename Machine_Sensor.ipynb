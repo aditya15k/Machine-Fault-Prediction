{
 "cells": [
  {
   "cell_type": "markdown",
   "metadata": {},
   "source": [
    " # Machine Fault Prediction\n",
    " "
   ]
  },
  {
   "cell_type": "markdown",
   "metadata": {},
   "source": [
    "## Project details:\n",
    "\n",
    "###  Given a Machine's sensor data values , we want to predict the values of the sensor three days into the future using Time Series Forecasting and check if there will be a fault in the machine in those three days. We also create a system that alerts the person incharge if and when the fault seems likely in the next three days. The fault will eventually lead to failure of the machine.Thus we are preventing the failure of a machine before it occurs."
   ]
  },
  {
   "cell_type": "markdown",
   "metadata": {},
   "source": [
    "### This Project is divided into the following sections\n",
    "\n",
    "###  1) Data Visualization and Exploratory Analysis\n",
    "###  2) Statistical Analysis\n",
    "###  3) Forecasting using VAR,VARMA and LSTM with RNN\n",
    "###  4) Final Prediction and Fault Detection"
   ]
  },
  {
   "cell_type": "markdown",
   "metadata": {},
   "source": [
    "Let us start with importing modules"
   ]
  },
  {
   "cell_type": "code",
   "execution_count": 607,
   "metadata": {},
   "outputs": [],
   "source": [
    "\n",
    "import pandas as pd\n",
    "import numpy as np\n",
    "%matplotlib inline\n",
    "import matplotlib.pyplot as plt\n",
    "import tensorflow\n",
    "\n",
    "# specific forecasting tools\n",
    "\n",
    "from statsmodels.tsa.api import VAR\n",
    "from statsmodels.tsa.stattools import adfuller\n",
    "from statsmodels.tools.eval_measures import rmse\n",
    "\n",
    "# Ignore harmless warnings\n",
    "import warnings\n",
    "warnings.filterwarnings(\"ignore\")"
   ]
  },
  {
   "cell_type": "code",
   "execution_count": 608,
   "metadata": {},
   "outputs": [],
   "source": [
    "df = pd.read_csv('C:\\\\Users\\\\Aditya\\\\Desktop\\\\projects in resume\\\\timeseriesjosh\\\\New folder\\\\machine_11.csv',index_col= 'date',\n",
    "                infer_datetime_format=True)\n"
   ]
  },
  {
   "cell_type": "code",
   "execution_count": 609,
   "metadata": {},
   "outputs": [],
   "source": [
    "df.index = pd.to_datetime(df.index)"
   ]
  },
  {
   "cell_type": "code",
   "execution_count": 610,
   "metadata": {},
   "outputs": [
    {
     "data": {
      "text/html": [
       "<div>\n",
       "<style scoped>\n",
       "    .dataframe tbody tr th:only-of-type {\n",
       "        vertical-align: middle;\n",
       "    }\n",
       "\n",
       "    .dataframe tbody tr th {\n",
       "        vertical-align: top;\n",
       "    }\n",
       "\n",
       "    .dataframe thead th {\n",
       "        text-align: right;\n",
       "    }\n",
       "</style>\n",
       "<table border=\"1\" class=\"dataframe\">\n",
       "  <thead>\n",
       "    <tr style=\"text-align: right;\">\n",
       "      <th></th>\n",
       "      <th>0</th>\n",
       "      <th>1</th>\n",
       "      <th>2</th>\n",
       "      <th>3</th>\n",
       "    </tr>\n",
       "    <tr>\n",
       "      <th>date</th>\n",
       "      <th></th>\n",
       "      <th></th>\n",
       "      <th></th>\n",
       "      <th></th>\n",
       "    </tr>\n",
       "  </thead>\n",
       "  <tbody>\n",
       "    <tr>\n",
       "      <th>2019-01-01 00:00:00</th>\n",
       "      <td>12.619190</td>\n",
       "      <td>8.822951</td>\n",
       "      <td>-11.786292</td>\n",
       "      <td>10.064528</td>\n",
       "    </tr>\n",
       "    <tr>\n",
       "      <th>2019-01-01 08:00:10</th>\n",
       "      <td>10.823407</td>\n",
       "      <td>2.797931</td>\n",
       "      <td>11.562981</td>\n",
       "      <td>21.887692</td>\n",
       "    </tr>\n",
       "    <tr>\n",
       "      <th>2019-01-01 16:00:19</th>\n",
       "      <td>21.094514</td>\n",
       "      <td>-0.644464</td>\n",
       "      <td>-17.826078</td>\n",
       "      <td>-1.360316</td>\n",
       "    </tr>\n",
       "    <tr>\n",
       "      <th>2019-02-01 00:00:29</th>\n",
       "      <td>32.296052</td>\n",
       "      <td>6.535904</td>\n",
       "      <td>-13.510324</td>\n",
       "      <td>-4.259116</td>\n",
       "    </tr>\n",
       "    <tr>\n",
       "      <th>2019-02-01 08:00:38</th>\n",
       "      <td>28.077653</td>\n",
       "      <td>3.687200</td>\n",
       "      <td>21.982494</td>\n",
       "      <td>13.636488</td>\n",
       "    </tr>\n",
       "  </tbody>\n",
       "</table>\n",
       "</div>"
      ],
      "text/plain": [
       "                             0         1          2          3\n",
       "date                                                          \n",
       "2019-01-01 00:00:00  12.619190  8.822951 -11.786292  10.064528\n",
       "2019-01-01 08:00:10  10.823407  2.797931  11.562981  21.887692\n",
       "2019-01-01 16:00:19  21.094514 -0.644464 -17.826078  -1.360316\n",
       "2019-02-01 00:00:29  32.296052  6.535904 -13.510324  -4.259116\n",
       "2019-02-01 08:00:38  28.077653  3.687200  21.982494  13.636488"
      ]
     },
     "execution_count": 610,
     "metadata": {},
     "output_type": "execute_result"
    }
   ],
   "source": [
    "df.head()"
   ]
  },
  {
   "cell_type": "markdown",
   "metadata": {},
   "source": [
    " We see that the data has four columns which is the sensor data and an index column which is the datetime index\n",
    " "
   ]
  },
  {
   "cell_type": "markdown",
   "metadata": {},
   "source": [
    " # Data Visualization and Exploratory Analysis"
   ]
  },
  {
   "cell_type": "markdown",
   "metadata": {},
   "source": [
    "Consider sensor 0's data"
   ]
  },
  {
   "cell_type": "code",
   "execution_count": 348,
   "metadata": {},
   "outputs": [
    {
     "data": {
      "text/plain": [
       "<AxesSubplot:xlabel='date'>"
      ]
     },
     "execution_count": 348,
     "metadata": {},
     "output_type": "execute_result"
    },
    {
     "data": {
      "image/png": "[encoded data removed]",
      "text/plain": [
       "<Figure size 432x288 with 1 Axes>"
      ]
     },
     "metadata": {
      "needs_background": "light"
     },
     "output_type": "display_data"
    }
   ],
   "source": [
    "df['0'].plot()"
   ]
  },
  {
   "cell_type": "markdown",
   "metadata": {},
   "source": [
    "We see that there are more fluctuations and variation in the year 2019. Lets zoom in on the first five months of january to geta better idea "
   ]
  },
  {
   "cell_type": "code",
   "execution_count": 349,
   "metadata": {},
   "outputs": [
    {
     "data": {
      "text/plain": [
       "<AxesSubplot:xlabel='date'>"
      ]
     },
     "execution_count": 349,
     "metadata": {},
     "output_type": "execute_result"
    },
    {
     "data": {
      "image/png": "[encoded data removed]",
      "text/plain": [
       "<Figure size 432x288 with 1 Axes>"
      ]
     },
     "metadata": {
      "needs_background": "light"
     },
     "output_type": "display_data"
    }
   ],
   "source": [
    "df['0']['2019-01-01':'2019-05-01'].plot()"
   ]
  },
  {
   "cell_type": "markdown",
   "metadata": {},
   "source": [
    "we can see the fluctuations"
   ]
  },
  {
   "cell_type": "markdown",
   "metadata": {},
   "source": [
    "Let's check for the other columns"
   ]
  },
  {
   "cell_type": "code",
   "execution_count": 350,
   "metadata": {},
   "outputs": [
    {
     "data": {
      "text/plain": [
       "<AxesSubplot:xlabel='date'>"
      ]
     },
     "execution_count": 350,
     "metadata": {},
     "output_type": "execute_result"
    },
    {
     "data": {
      "image/png": "[encoded data removed]",
      "text/plain": [
       "<Figure size 432x288 with 1 Axes>"
      ]
     },
     "metadata": {
      "needs_background": "light"
     },
     "output_type": "display_data"
    }
   ],
   "source": [
    "df['1'].plot()"
   ]
  },
  {
   "cell_type": "code",
   "execution_count": 351,
   "metadata": {},
   "outputs": [
    {
     "data": {
      "text/plain": [
       "<AxesSubplot:xlabel='date'>"
      ]
     },
     "execution_count": 351,
     "metadata": {},
     "output_type": "execute_result"
    },
    {
     "data": {
      "image/png": "[encoded data removed]",
      "text/plain": [
       "<Figure size 432x288 with 1 Axes>"
      ]
     },
     "metadata": {
      "needs_background": "light"
     },
     "output_type": "display_data"
    }
   ],
   "source": [
    "df['2'].plot()"
   ]
  },
  {
   "cell_type": "code",
   "execution_count": 352,
   "metadata": {},
   "outputs": [
    {
     "data": {
      "text/plain": [
       "<AxesSubplot:xlabel='date'>"
      ]
     },
     "execution_count": 352,
     "metadata": {},
     "output_type": "execute_result"
    },
    {
     "data": {
      "image/png": "[encoded data removed]",
      "text/plain": [
       "<Figure size 432x288 with 1 Axes>"
      ]
     },
     "metadata": {
      "needs_background": "light"
     },
     "output_type": "display_data"
    }
   ],
   "source": [
    "df['3'].plot()"
   ]
  },
  {
   "cell_type": "markdown",
   "metadata": {},
   "source": [
    "There seems to be a similar patter for all the sensors."
   ]
  },
  {
   "cell_type": "markdown",
   "metadata": {},
   "source": [
    "Let's move into the distribution of the data to detect outliers"
   ]
  },
  {
   "cell_type": "code",
   "execution_count": 353,
   "metadata": {},
   "outputs": [
    {
     "data": {
      "text/plain": [
       "(array([  63.,    0.,    0.,    3.,   98., 2741.,   10.,    0.,    0.,\n",
       "          85.]),\n",
       " array([-307.4498619 , -247.53316242, -187.61646294, -127.69976346,\n",
       "         -67.78306398,   -7.8663645 ,   52.05033498,  111.96703446,\n",
       "         171.88373394,  231.80043342,  291.7171329 ]),\n",
       " <BarContainer object of 10 artists>)"
      ]
     },
     "execution_count": 353,
     "metadata": {},
     "output_type": "execute_result"
    },
    {
     "data": {
      "image/png": "[encoded data removed]",
      "text/plain": [
       "<Figure size 432x288 with 1 Axes>"
      ]
     },
     "metadata": {
      "needs_background": "light"
     },
     "output_type": "display_data"
    }
   ],
   "source": [
    "x=df['0']\n",
    "plt.hist(x)\n"
   ]
  },
  {
   "cell_type": "markdown",
   "metadata": {},
   "source": [
    "We see that for the sensor 0 the outliers are clearly separated."
   ]
  },
  {
   "cell_type": "markdown",
   "metadata": {},
   "source": [
    "Let's Zoom in to see which the points beyond which the outliers exist"
   ]
  },
  {
   "cell_type": "code",
   "execution_count": 354,
   "metadata": {},
   "outputs": [
    {
     "data": {
      "text/plain": [
       "(-80.0, 115.0)"
      ]
     },
     "execution_count": 354,
     "metadata": {},
     "output_type": "execute_result"
    },
    {
     "data": {
      "image/png": "[encoded data removed]",
      "text/plain": [
       "<Figure size 432x288 with 1 Axes>"
      ]
     },
     "metadata": {
      "needs_background": "light"
     },
     "output_type": "display_data"
    }
   ],
   "source": [
    "x=df['0']\n",
    "plt.hist(x)\n",
    "plt.xlim([-80,115])"
   ]
  },
  {
   "cell_type": "markdown",
   "metadata": {},
   "source": [
    "We can see that anypoint beyond 110 and -68 on the other side is an outlier for sensor 0 "
   ]
  },
  {
   "cell_type": "markdown",
   "metadata": {},
   "source": [
    "Similarly lets plot for sensors 1,2 and 3 and we find that the range is even smaller for these sensors"
   ]
  },
  {
   "cell_type": "code",
   "execution_count": 355,
   "metadata": {},
   "outputs": [
    {
     "data": {
      "text/plain": [
       "(-70.0, 70.0)"
      ]
     },
     "execution_count": 355,
     "metadata": {},
     "output_type": "execute_result"
    },
    {
     "data": {
      "image/png": "[encoded data removed]",
      "text/plain": [
       "<Figure size 432x288 with 1 Axes>"
      ]
     },
     "metadata": {
      "needs_background": "light"
     },
     "output_type": "display_data"
    }
   ],
   "source": [
    "x=df['1']\n",
    "plt.hist(x)\n",
    "plt.xlim([-70,70])"
   ]
  },
  {
   "cell_type": "markdown",
   "metadata": {},
   "source": [
    "We can see that anypoint beyond 55 and -55 on the other side is an outlier for sensor 1 "
   ]
  },
  {
   "cell_type": "code",
   "execution_count": 356,
   "metadata": {},
   "outputs": [
    {
     "data": {
      "text/plain": [
       "(-70.0, 70.0)"
      ]
     },
     "execution_count": 356,
     "metadata": {},
     "output_type": "execute_result"
    },
    {
     "data": {
      "image/png": "[encoded data removed]",
      "text/plain": [
       "<Figure size 432x288 with 1 Axes>"
      ]
     },
     "metadata": {
      "needs_background": "light"
     },
     "output_type": "display_data"
    }
   ],
   "source": [
    "x=df['2']\n",
    "plt.hist(x)\n",
    "plt.xlim([-70,70])"
   ]
  },
  {
   "cell_type": "markdown",
   "metadata": {},
   "source": [
    "We can see that anypoint beyond 55 and -55 on the other side is an outlier for sensor =2 "
   ]
  },
  {
   "cell_type": "code",
   "execution_count": 357,
   "metadata": {},
   "outputs": [
    {
     "data": {
      "text/plain": [
       "(-100.0, 100.0)"
      ]
     },
     "execution_count": 357,
     "metadata": {},
     "output_type": "execute_result"
    },
    {
     "data": {
      "image/png": "[encoded data removed]",
      "text/plain": [
       "<Figure size 432x288 with 1 Axes>"
      ]
     },
     "metadata": {
      "needs_background": "light"
     },
     "output_type": "display_data"
    }
   ],
   "source": [
    "x=df['3']\n",
    "plt.hist(x)\n",
    "plt.xlim([-100,100])"
   ]
  },
  {
   "cell_type": "markdown",
   "metadata": {},
   "source": [
    "We can see that anypoint beyond 80 and -95 on the other side is an outlier for sensor 3"
   ]
  },
  {
   "cell_type": "markdown",
   "metadata": {},
   "source": [
    "We have detected our outliers\n",
    "\n",
    "To process the outliers I have decided not to delete the outliers as that would delete a lot of values as we are considering for each sensor\n"
   ]
  },
  {
   "cell_type": "markdown",
   "metadata": {},
   "source": [
    "Instead what i have decided to do is to cap the values at the range of non outliers for each sensor.\n",
    "\n",
    "for example if we have a 231 value in our first sensor data column ( which is an outlier). The range of non outlier data for sensor 0 is -70 to 70. I will convert the value 231 to 70 in our data column. This ensures that we capture the actual implication of the reading as well as include the data point exists for further processing Thus ensuring that no vital information is lost.  "
   ]
  },
  {
   "cell_type": "code",
   "execution_count": 358,
   "metadata": {},
   "outputs": [
    {
     "data": {
      "text/plain": [
       "date\n",
       "2019-01-01 00:00:00     12.619190\n",
       "2019-01-01 08:00:10     10.823407\n",
       "2019-01-01 16:00:19     21.094514\n",
       "2019-02-01 00:00:29     32.296052\n",
       "2019-02-01 08:00:38     28.077653\n",
       "                          ...    \n",
       "2021-09-25 15:59:22   -250.014306\n",
       "2021-09-25 23:59:31   -250.005644\n",
       "2021-09-26 07:59:41     -0.007510\n",
       "2021-09-26 15:59:50      0.000336\n",
       "2021-09-27 00:00:00     -0.000462\n",
       "Name: 0, Length: 3000, dtype: float64"
      ]
     },
     "execution_count": 358,
     "metadata": {},
     "output_type": "execute_result"
    }
   ],
   "source": [
    "df['0']"
   ]
  },
  {
   "cell_type": "code",
   "execution_count": 359,
   "metadata": {},
   "outputs": [],
   "source": [
    "# df1 is a duplicate of df for further processing\n",
    "df1=df"
   ]
  },
  {
   "cell_type": "markdown",
   "metadata": {},
   "source": [
    "Let's cap the values at the respective ranges"
   ]
  },
  {
   "cell_type": "code",
   "execution_count": 360,
   "metadata": {},
   "outputs": [],
   "source": [
    "# capping sensor 0 \n",
    "for i in range(len(df1)):\n",
    "    if df1['0'][i] > 115:\n",
    "        df1['0'][i]= 115\n",
    "    elif df1['0'][i] < -80:\n",
    "        df1['0'][i]= -80\n",
    "\n",
    "        \n",
    "#capping sensor 1\n",
    "for i in range(len(df1)):\n",
    "    if df1['1'][i] > 55:\n",
    "        df1['1'][i]= 55\n",
    "    elif df1['1'][i] < -55:\n",
    "        df1['1'][i]= -55\n",
    "\n",
    "#capping sensor 2\n",
    "for i in range(len(df1)):\n",
    "    if df1['2'][i] > 55:\n",
    "        df1['2'][i]= 55\n",
    "    elif df1['2'][i] < -55:\n",
    "        df1['2'][i]= -55\n",
    "        \n",
    "\n",
    "#capping sensor 3\n",
    "for i in range(len(df1)):\n",
    "    if df1['3'][i] > 80:\n",
    "        df1['3'][i]= 80\n",
    "    elif df1['3'][i] < -95:\n",
    "        df1['3'][i]= -95\n"
   ]
  },
  {
   "cell_type": "code",
   "execution_count": 361,
   "metadata": {},
   "outputs": [],
   "source": [
    "#converting to positive values\n",
    "\n",
    "for i in range(len(df1)):\n",
    "    df1['0'][i]=df1['0'][i] + 81\n",
    "\n",
    "for i in range(len(df1)):\n",
    "    df1['1'][i]=df1['1'][i] + 56\n",
    "\n",
    "for i in range(len(df1)):\n",
    "    df1['2'][i]=df1['2'][i] + 56\n",
    "\n",
    "for i in range(len(df1)):\n",
    "    df1['3'][i]=df1['3'][i] + 96\n"
   ]
  },
  {
   "cell_type": "markdown",
   "metadata": {},
   "source": [
    "# Statistical Analysis"
   ]
  },
  {
   "cell_type": "markdown",
   "metadata": {},
   "source": [
    "Let's run some Statistical Analysis"
   ]
  },
  {
   "cell_type": "markdown",
   "metadata": {},
   "source": [
    "We run a Dicky Fuller Test"
   ]
  },
  {
   "cell_type": "code",
   "execution_count": 362,
   "metadata": {},
   "outputs": [],
   "source": [
    "from statsmodels.tsa.stattools import adfuller"
   ]
  },
  {
   "cell_type": "code",
   "execution_count": 363,
   "metadata": {},
   "outputs": [
    {
     "data": {
      "text/plain": [
       "(-18.532789128708444,\n",
       " 2.1021188710106938e-30,\n",
       " 14,\n",
       " 2985,\n",
       " {'1%': -3.432542607157588,\n",
       "  '5%': -2.8625087513967085,\n",
       "  '10%': -2.5672856921402096},\n",
       " 27194.14637258448)"
      ]
     },
     "execution_count": 363,
     "metadata": {},
     "output_type": "execute_result"
    }
   ],
   "source": [
    "adfuller(df1['0'])"
   ]
  },
  {
   "cell_type": "markdown",
   "metadata": {},
   "source": [
    "I wrote a functions to make it more readable and to state what it means"
   ]
  },
  {
   "cell_type": "code",
   "execution_count": 364,
   "metadata": {},
   "outputs": [
    {
     "data": {
      "text/plain": [
       "ADF Test Statistic   -1.853279e+01\n",
       "p-value               2.102119e-30\n",
       " # lags Used          1.400000e+01\n",
       "# Observations        2.985000e+03\n",
       "dtype: float64"
      ]
     },
     "execution_count": 364,
     "metadata": {},
     "output_type": "execute_result"
    }
   ],
   "source": [
    "df1test = adfuller(df1['0'])\n",
    "df1out = pd.Series(df1test[0:4],index = ['ADF Test Statistic', 'p-value',' # lags Used','# Observations'])\n",
    "df1out"
   ]
  },
  {
   "cell_type": "code",
   "execution_count": 365,
   "metadata": {},
   "outputs": [],
   "source": [
    "from statsmodels.tsa.stattools import adfuller\n",
    "\n",
    "def adf_test(series,title=''):\n",
    "    \"\"\"\n",
    "    Pass in a time series and an optional title, returns an ADF report\n",
    "    \"\"\"\n",
    "    print(f'Augmented Dickey-Fuller Test: {title}')\n",
    "    result = adfuller(series.dropna(),autolag='AIC') # .dropna() handles differenced data\n",
    "    \n",
    "    labels = ['ADF test statistic','p-value','# lags used','# observations']\n",
    "    out = pd.Series(result[0:4],index=labels)\n",
    "\n",
    "    for key,val in result[4].items():\n",
    "        out[f'critical value ({key})']=val\n",
    "        \n",
    "    print(out.to_string())          # .to_string() removes the line \"dtype: float64\"\n",
    "    \n",
    "    if result[1] <= 0.05:\n",
    "        print(\"Strong evidence against the null hypothesis\")\n",
    "        print(\"Reject the null hypothesis\")\n",
    "        print(\"Data has no unit root and is stationary\")\n",
    "    else:\n",
    "        print(\"Weak evidence against the null hypothesis\")\n",
    "        print(\"Fail to reject the null hypothesis\")\n",
    "        print(\"Data has a unit root and is non-stationary\")"
   ]
  },
  {
   "cell_type": "code",
   "execution_count": 366,
   "metadata": {},
   "outputs": [
    {
     "name": "stdout",
     "output_type": "stream",
     "text": [
      "Augmented Dickey-Fuller Test: \n",
      "ADF test statistic     -1.853279e+01\n",
      "p-value                 2.102119e-30\n",
      "# lags used             1.400000e+01\n",
      "# observations          2.985000e+03\n",
      "critical value (1%)    -3.432543e+00\n",
      "critical value (5%)    -2.862509e+00\n",
      "critical value (10%)   -2.567286e+00\n",
      "Strong evidence against the null hypothesis\n",
      "Reject the null hypothesis\n",
      "Data has no unit root and is stationary\n"
     ]
    }
   ],
   "source": [
    "adf_test(df['0'])"
   ]
  },
  {
   "cell_type": "markdown",
   "metadata": {},
   "source": [
    "We find that the sensor 0 column data is stationary\n",
    "\n",
    "we perform the same test for other sensors"
   ]
  },
  {
   "cell_type": "code",
   "execution_count": 367,
   "metadata": {},
   "outputs": [
    {
     "name": "stdout",
     "output_type": "stream",
     "text": [
      "Augmented Dickey-Fuller Test: \n",
      "ADF test statistic     -1.834835e+01\n",
      "p-value                 2.239049e-30\n",
      "# lags used             1.000000e+01\n",
      "# observations          2.989000e+03\n",
      "critical value (1%)    -3.432540e+00\n",
      "critical value (5%)    -2.862507e+00\n",
      "critical value (10%)   -2.567285e+00\n",
      "Strong evidence against the null hypothesis\n",
      "Reject the null hypothesis\n",
      "Data has no unit root and is stationary\n"
     ]
    }
   ],
   "source": [
    "adf_test(df['1'])"
   ]
  },
  {
   "cell_type": "code",
   "execution_count": 368,
   "metadata": {},
   "outputs": [
    {
     "name": "stdout",
     "output_type": "stream",
     "text": [
      "Augmented Dickey-Fuller Test: \n",
      "ADF test statistic     -1.187393e+01\n",
      "p-value                 6.406933e-22\n",
      "# lags used             2.700000e+01\n",
      "# observations          2.972000e+03\n",
      "critical value (1%)    -3.432552e+00\n",
      "critical value (5%)    -2.862513e+00\n",
      "critical value (10%)   -2.567288e+00\n",
      "Strong evidence against the null hypothesis\n",
      "Reject the null hypothesis\n",
      "Data has no unit root and is stationary\n"
     ]
    }
   ],
   "source": [
    "adf_test(df['2'])"
   ]
  },
  {
   "cell_type": "code",
   "execution_count": 369,
   "metadata": {},
   "outputs": [
    {
     "name": "stdout",
     "output_type": "stream",
     "text": [
      "Augmented Dickey-Fuller Test: \n",
      "ADF test statistic     -1.051046e+01\n",
      "p-value                 1.027695e-18\n",
      "# lags used             2.500000e+01\n",
      "# observations          2.974000e+03\n",
      "critical value (1%)    -3.432551e+00\n",
      "critical value (5%)    -2.862512e+00\n",
      "critical value (10%)   -2.567288e+00\n",
      "Strong evidence against the null hypothesis\n",
      "Reject the null hypothesis\n",
      "Data has no unit root and is stationary\n"
     ]
    }
   ],
   "source": [
    "adf_test(df['3'])"
   ]
  },
  {
   "cell_type": "markdown",
   "metadata": {},
   "source": [
    "We see that the data is stationary for all the sensors. "
   ]
  },
  {
   "cell_type": "markdown",
   "metadata": {},
   "source": [
    "Correalation Matrix"
   ]
  },
  {
   "cell_type": "code",
   "execution_count": 370,
   "metadata": {},
   "outputs": [
    {
     "data": {
      "text/html": [
       "<div>\n",
       "<style scoped>\n",
       "    .dataframe tbody tr th:only-of-type {\n",
       "        vertical-align: middle;\n",
       "    }\n",
       "\n",
       "    .dataframe tbody tr th {\n",
       "        vertical-align: top;\n",
       "    }\n",
       "\n",
       "    .dataframe thead th {\n",
       "        text-align: right;\n",
       "    }\n",
       "</style>\n",
       "<table border=\"1\" class=\"dataframe\">\n",
       "  <thead>\n",
       "    <tr style=\"text-align: right;\">\n",
       "      <th></th>\n",
       "      <th>0</th>\n",
       "      <th>1</th>\n",
       "      <th>2</th>\n",
       "      <th>3</th>\n",
       "    </tr>\n",
       "  </thead>\n",
       "  <tbody>\n",
       "    <tr>\n",
       "      <th>0</th>\n",
       "      <td>1.000000</td>\n",
       "      <td>-0.067853</td>\n",
       "      <td>-0.021766</td>\n",
       "      <td>-0.054830</td>\n",
       "    </tr>\n",
       "    <tr>\n",
       "      <th>1</th>\n",
       "      <td>-0.067853</td>\n",
       "      <td>1.000000</td>\n",
       "      <td>0.042843</td>\n",
       "      <td>0.020277</td>\n",
       "    </tr>\n",
       "    <tr>\n",
       "      <th>2</th>\n",
       "      <td>-0.021766</td>\n",
       "      <td>0.042843</td>\n",
       "      <td>1.000000</td>\n",
       "      <td>-0.019388</td>\n",
       "    </tr>\n",
       "    <tr>\n",
       "      <th>3</th>\n",
       "      <td>-0.054830</td>\n",
       "      <td>0.020277</td>\n",
       "      <td>-0.019388</td>\n",
       "      <td>1.000000</td>\n",
       "    </tr>\n",
       "  </tbody>\n",
       "</table>\n",
       "</div>"
      ],
      "text/plain": [
       "          0         1         2         3\n",
       "0  1.000000 -0.067853 -0.021766 -0.054830\n",
       "1 -0.067853  1.000000  0.042843  0.020277\n",
       "2 -0.021766  0.042843  1.000000 -0.019388\n",
       "3 -0.054830  0.020277 -0.019388  1.000000"
      ]
     },
     "execution_count": 370,
     "metadata": {},
     "output_type": "execute_result"
    }
   ],
   "source": [
    "df1.corr()"
   ]
  },
  {
   "cell_type": "markdown",
   "metadata": {},
   "source": [
    "We see that there is no significant correlation between the predictor variables "
   ]
  },
  {
   "cell_type": "markdown",
   "metadata": {},
   "source": [
    "Let's check the causality"
   ]
  },
  {
   "cell_type": "code",
   "execution_count": 371,
   "metadata": {},
   "outputs": [],
   "source": [
    "from statsmodels.tsa.stattools import grangercausalitytests"
   ]
  },
  {
   "cell_type": "code",
   "execution_count": 372,
   "metadata": {},
   "outputs": [
    {
     "name": "stdout",
     "output_type": "stream",
     "text": [
      "\n",
      "Granger Causality\n",
      "number of lags (no zero) 1\n",
      "ssr based F test:         F=0.0098  , p=0.9213  , df_denom=2996, df_num=1\n",
      "ssr based chi2 test:   chi2=0.0098  , p=0.9213  , df=1\n",
      "likelihood ratio test: chi2=0.0098  , p=0.9213  , df=1\n",
      "parameter F test:         F=0.0098  , p=0.9213  , df_denom=2996, df_num=1\n",
      "\n",
      "Granger Causality\n",
      "number of lags (no zero) 2\n",
      "ssr based F test:         F=0.2770  , p=0.7581  , df_denom=2993, df_num=2\n",
      "ssr based chi2 test:   chi2=0.5549  , p=0.7577  , df=2\n",
      "likelihood ratio test: chi2=0.5548  , p=0.7577  , df=2\n",
      "parameter F test:         F=0.2770  , p=0.7581  , df_denom=2993, df_num=2\n",
      "\n",
      "Granger Causality\n",
      "number of lags (no zero) 3\n",
      "ssr based F test:         F=0.9859  , p=0.3983  , df_denom=2990, df_num=3\n",
      "ssr based chi2 test:   chi2=2.9647  , p=0.3971  , df=3\n",
      "likelihood ratio test: chi2=2.9633  , p=0.3973  , df=3\n",
      "parameter F test:         F=0.9859  , p=0.3983  , df_denom=2990, df_num=3\n",
      "\n",
      "Granger Causality\n",
      "number of lags (no zero) 4\n",
      "ssr based F test:         F=1.0384  , p=0.3858  , df_denom=2987, df_num=4\n",
      "ssr based chi2 test:   chi2=4.1659  , p=0.3840  , df=4\n",
      "likelihood ratio test: chi2=4.1630  , p=0.3844  , df=4\n",
      "parameter F test:         F=1.0384  , p=0.3858  , df_denom=2987, df_num=4\n",
      "\n",
      "Granger Causality\n",
      "number of lags (no zero) 5\n",
      "ssr based F test:         F=1.2715  , p=0.2733  , df_denom=2984, df_num=5\n",
      "ssr based chi2 test:   chi2=6.3812  , p=0.2709  , df=5\n",
      "likelihood ratio test: chi2=6.3744  , p=0.2715  , df=5\n",
      "parameter F test:         F=1.2715  , p=0.2733  , df_denom=2984, df_num=5\n",
      "\n",
      "Granger Causality\n",
      "number of lags (no zero) 6\n",
      "ssr based F test:         F=1.5696  , p=0.1518  , df_denom=2981, df_num=6\n",
      "ssr based chi2 test:   chi2=9.4586  , p=0.1494  , df=6\n",
      "likelihood ratio test: chi2=9.4437  , p=0.1501  , df=6\n",
      "parameter F test:         F=1.5696  , p=0.1518  , df_denom=2981, df_num=6\n",
      "\n",
      "Granger Causality\n",
      "number of lags (no zero) 7\n",
      "ssr based F test:         F=2.0611  , p=0.0444  , df_denom=2978, df_num=7\n",
      "ssr based chi2 test:   chi2=14.5004 , p=0.0430  , df=7\n",
      "likelihood ratio test: chi2=14.4654 , p=0.0435  , df=7\n",
      "parameter F test:         F=2.0611  , p=0.0444  , df_denom=2978, df_num=7\n",
      "\n",
      "Granger Causality\n",
      "number of lags (no zero) 8\n",
      "ssr based F test:         F=2.2178  , p=0.0235  , df_denom=2975, df_num=8\n",
      "ssr based chi2 test:   chi2=17.8437 , p=0.0224  , df=8\n",
      "likelihood ratio test: chi2=17.7907 , p=0.0229  , df=8\n",
      "parameter F test:         F=2.2178  , p=0.0235  , df_denom=2975, df_num=8\n",
      "\n",
      "Granger Causality\n",
      "number of lags (no zero) 9\n",
      "ssr based F test:         F=2.3790  , p=0.0111  , df_denom=2972, df_num=9\n",
      "ssr based chi2 test:   chi2=21.5482 , p=0.0104  , df=9\n",
      "likelihood ratio test: chi2=21.4710 , p=0.0107  , df=9\n",
      "parameter F test:         F=2.3790  , p=0.0111  , df_denom=2972, df_num=9\n",
      "\n",
      "Granger Causality\n",
      "number of lags (no zero) 10\n",
      "ssr based F test:         F=2.2649  , p=0.0123  , df_denom=2969, df_num=10\n",
      "ssr based chi2 test:   chi2=22.8095 , p=0.0115  , df=10\n",
      "likelihood ratio test: chi2=22.7229 , p=0.0118  , df=10\n",
      "parameter F test:         F=2.2649  , p=0.0123  , df_denom=2969, df_num=10\n",
      "\n",
      "Granger Causality\n",
      "number of lags (no zero) 11\n",
      "ssr based F test:         F=2.0897  , p=0.0181  , df_denom=2966, df_num=11\n",
      "ssr based chi2 test:   chi2=23.1648 , p=0.0168  , df=11\n",
      "likelihood ratio test: chi2=23.0755 , p=0.0172  , df=11\n",
      "parameter F test:         F=2.0897  , p=0.0181  , df_denom=2966, df_num=11\n",
      "\n",
      "Granger Causality\n",
      "number of lags (no zero) 12\n",
      "ssr based F test:         F=1.6652  , p=0.0681  , df_denom=2963, df_num=12\n",
      "ssr based chi2 test:   chi2=20.1514 , p=0.0643  , df=12\n",
      "likelihood ratio test: chi2=20.0837 , p=0.0655  , df=12\n",
      "parameter F test:         F=1.6652  , p=0.0681  , df_denom=2963, df_num=12\n"
     ]
    }
   ],
   "source": [
    "grangercausalitytests(df1[['0','1']],maxlag=12);"
   ]
  },
  {
   "cell_type": "markdown",
   "metadata": {},
   "source": [
    "We see that for sensors 0 and 1. The granger causality test p value is minimum and it is below 0.05 so we can say that the seems to be some causality between sensors 0 and 1  after 9 data points and however we cannot simply conclude this fact.\n",
    "If we shift the data by 9 points ( 3 days ) we might see some information."
   ]
  },
  {
   "cell_type": "markdown",
   "metadata": {},
   "source": [
    "Let's perform the same tests for the other sensors"
   ]
  },
  {
   "cell_type": "markdown",
   "metadata": {},
   "source": [
    "On doing the same test with other sensors we found some causality between sensors 0 and 2 , sensors 0 and 3 and sensors 1 and 3"
   ]
  },
  {
   "cell_type": "markdown",
   "metadata": {},
   "source": [
    "# Forecasting with VAR , VARMA and LSTM with RNN"
   ]
  },
  {
   "cell_type": "markdown",
   "metadata": {},
   "source": [
    "Now lets get into forecasting"
   ]
  },
  {
   "cell_type": "markdown",
   "metadata": {},
   "source": [
    "## VAR model"
   ]
  },
  {
   "cell_type": "code",
   "execution_count": 373,
   "metadata": {},
   "outputs": [],
   "source": [
    "# Since we are predicting for the next 3 days \n",
    "# we have 3 observations in a day\n",
    "# So totally 3*3 9 observations in 3 days \n",
    "# nob = 9"
   ]
  },
  {
   "cell_type": "code",
   "execution_count": 374,
   "metadata": {},
   "outputs": [],
   "source": [
    "nob= 9 \n",
    "train,test = df1[0:-nob],df1[-nob:]"
   ]
  },
  {
   "cell_type": "code",
   "execution_count": 375,
   "metadata": {},
   "outputs": [
    {
     "name": "stdout",
     "output_type": "stream",
     "text": [
      "(2991, 4)\n",
      "(9, 4)\n"
     ]
    }
   ],
   "source": [
    "print(train.shape)\n",
    "print(test.shape)"
   ]
  },
  {
   "cell_type": "code",
   "execution_count": 376,
   "metadata": {},
   "outputs": [
    {
     "name": "stdout",
     "output_type": "stream",
     "text": [
      "order = 1\n",
      "AIC : 22.678000439790097\n",
      "BIC : 22.718154477692334\n",
      "\n",
      "order = 2\n",
      "AIC : 22.660892444519913\n",
      "BIC : 22.733189865009116\n",
      "\n",
      "order = 3\n",
      "AIC : 22.6483379266723\n",
      "BIC : 22.75279666040896\n",
      "\n",
      "order = 4\n",
      "AIC : 22.643970297982666\n",
      "BIC : 22.78060829183559\n",
      "\n",
      "order = 5\n",
      "AIC : 22.644403213907687\n",
      "BIC : 22.813238430974106\n",
      "\n",
      "order = 6\n",
      "AIC : 22.649242290465747\n",
      "BIC : 22.85029271009143\n",
      "\n",
      "order = 7\n",
      "AIC : 22.648165112181953\n",
      "BIC : 22.881448729981397\n",
      "\n",
      "order = 8\n",
      "AIC : 22.649519019843662\n",
      "BIC : 22.91505384772028\n",
      "\n",
      "order = 9\n",
      "AIC : 22.64105551693805\n",
      "BIC : 22.9388595831044\n",
      "\n",
      "order = 10\n",
      "AIC : 22.63774802367994\n",
      "BIC : 22.967839372677997\n",
      "\n",
      "order = 11\n",
      "AIC : 22.625048529369813\n",
      "BIC : 22.987445222091257\n",
      "\n",
      "order = 12\n",
      "AIC : 22.61815028736271\n",
      "BIC : 23.012870401069257\n",
      "\n",
      "order = 13\n",
      "AIC : 22.61996803726334\n",
      "BIC : 23.047029665607102\n",
      "\n",
      "order = 14\n",
      "AIC : 22.618848881705308\n",
      "BIC : 23.07827013474918\n",
      "\n",
      "order = 15\n",
      "AIC : 22.616065716939723\n",
      "BIC : 23.107864721177805\n",
      "\n"
     ]
    }
   ],
   "source": [
    "model = VAR(train)\n",
    "for i in [1,2,3,4,5,6,7,8,9,10,11,12,13,14,15]:\n",
    "    results = model.fit(i)\n",
    "    print('order =' ,i)\n",
    "    print('AIC :', results.aic)\n",
    "    print('BIC :', results.bic)\n",
    "    print()"
   ]
  },
  {
   "cell_type": "code",
   "execution_count": 377,
   "metadata": {},
   "outputs": [
    {
     "data": {
      "text/plain": [
       "['0', '1', '2', '3']"
      ]
     },
     "execution_count": 377,
     "metadata": {},
     "output_type": "execute_result"
    }
   ],
   "source": [
    "model.endog_names"
   ]
  },
  {
   "cell_type": "markdown",
   "metadata": {},
   "source": [
    "The VAR(2) model seems to return the lowest combined scores\n",
    "Just to verify that all the variables are included in the model we run\n",
    ".endog_names.  We can see all the variables included"
   ]
  },
  {
   "cell_type": "markdown",
   "metadata": {},
   "source": [
    "Fit the VAR(2) Model\n"
   ]
  },
  {
   "cell_type": "code",
   "execution_count": 378,
   "metadata": {},
   "outputs": [
    {
     "data": {
      "text/plain": [
       "  Summary of Regression Results   \n",
       "==================================\n",
       "Model:                         VAR\n",
       "Method:                        OLS\n",
       "Date:           Wed, 18, Nov, 2020\n",
       "Time:                     20:46:12\n",
       "--------------------------------------------------------------------\n",
       "No. of Equations:         4.00000    BIC:                    22.7332\n",
       "Nobs:                     2989.00    HQIC:                   22.6869\n",
       "Log likelihood:          -50795.5    FPE:                6.94226e+09\n",
       "AIC:                      22.6609    Det(Omega_mle):     6.85927e+09\n",
       "--------------------------------------------------------------------\n",
       "Results for equation 0\n",
       "========================================================================\n",
       "           coefficient       std. error           t-stat            prob\n",
       "------------------------------------------------------------------------\n",
       "const        72.447052         5.111137           14.174           0.000\n",
       "L1.0          0.143848         0.018286            7.866           0.000\n",
       "L1.1          0.017955         0.034301            0.523           0.601\n",
       "L1.2         -0.121169         0.032723           -3.703           0.000\n",
       "L1.3         -0.021408         0.020651           -1.037           0.300\n",
       "L2.0          0.092657         0.018252            5.077           0.000\n",
       "L2.1         -0.016236         0.034403           -0.472           0.637\n",
       "L2.2         -0.053986         0.032779           -1.647           0.100\n",
       "L2.3          0.026021         0.020655            1.260           0.208\n",
       "========================================================================\n",
       "\n",
       "Results for equation 1\n",
       "========================================================================\n",
       "           coefficient       std. error           t-stat            prob\n",
       "------------------------------------------------------------------------\n",
       "const        46.427411         2.723936           17.044           0.000\n",
       "L1.0         -0.016029         0.009746           -1.645           0.100\n",
       "L1.1          0.067249         0.018280            3.679           0.000\n",
       "L1.2          0.029086         0.017439            1.668           0.095\n",
       "L1.3          0.007159         0.011006            0.650           0.515\n",
       "L2.0         -0.028043         0.009727           -2.883           0.004\n",
       "L2.1          0.046452         0.018335            2.534           0.011\n",
       "L2.2          0.023752         0.017469            1.360           0.174\n",
       "L2.3          0.032811         0.011008            2.981           0.003\n",
       "========================================================================\n",
       "\n",
       "Results for equation 2\n",
       "========================================================================\n",
       "           coefficient       std. error           t-stat            prob\n",
       "------------------------------------------------------------------------\n",
       "const        50.091687         2.866770           17.473           0.000\n",
       "L1.0         -0.009440         0.010257           -0.920           0.357\n",
       "L1.1          0.046782         0.019239            2.432           0.015\n",
       "L1.2          0.070170         0.018354            3.823           0.000\n",
       "L1.3         -0.012182         0.011583           -1.052           0.293\n",
       "L2.0          0.033467         0.010237            3.269           0.001\n",
       "L2.1         -0.015516         0.019296           -0.804           0.421\n",
       "L2.2         -0.012068         0.018385           -0.656           0.512\n",
       "L2.3          0.003257         0.011585            0.281           0.779\n",
       "========================================================================\n",
       "\n",
       "Results for equation 3\n",
       "========================================================================\n",
       "           coefficient       std. error           t-stat            prob\n",
       "------------------------------------------------------------------------\n",
       "const       103.399715         4.530225           22.824           0.000\n",
       "L1.0         -0.010703         0.016208           -0.660           0.509\n",
       "L1.1          0.001615         0.030403            0.053           0.958\n",
       "L1.2         -0.026543         0.029004           -0.915           0.360\n",
       "L1.3          0.016888         0.018304            0.923           0.356\n",
       "L2.0         -0.013554         0.016178           -0.838           0.402\n",
       "L2.1          0.035236         0.030493            1.156           0.248\n",
       "L2.2         -0.043473         0.029053           -1.496           0.135\n",
       "L2.3         -0.061082         0.018307           -3.336           0.001\n",
       "========================================================================\n",
       "\n",
       "Correlation matrix of residuals\n",
       "            0         1         2         3\n",
       "0    1.000000 -0.054321 -0.022639 -0.053658\n",
       "1   -0.054321  1.000000  0.042100  0.022323\n",
       "2   -0.022639  0.042100  1.000000 -0.017400\n",
       "3   -0.053658  0.022323 -0.017400  1.000000\n",
       "\n"
      ]
     },
     "execution_count": 378,
     "metadata": {},
     "output_type": "execute_result"
    }
   ],
   "source": [
    "results = model.fit(2)\n",
    "results.summary()"
   ]
  },
  {
   "cell_type": "code",
   "execution_count": 379,
   "metadata": {},
   "outputs": [
    {
     "data": {
      "text/plain": [
       "2"
      ]
     },
     "execution_count": 379,
     "metadata": {},
     "output_type": "execute_result"
    }
   ],
   "source": [
    "lag_order = results.k_ar\n",
    "lag_order"
   ]
  },
  {
   "cell_type": "code",
   "execution_count": 380,
   "metadata": {},
   "outputs": [
    {
     "data": {
      "text/plain": [
       "array([[76.56308457, 55.06528746, 60.89797797, 91.93740772],\n",
       "       [78.20401542, 57.44872524, 55.9134221 , 92.79073513],\n",
       "       [81.2713738 , 56.20166223, 56.10651472, 95.37782961],\n",
       "       [82.01608354, 56.06707332, 56.08211572, 95.607865  ],\n",
       "       [82.48017712, 55.99254789, 56.19237532, 95.35227415],\n",
       "       [82.61620013, 55.96130653, 56.22341326, 95.31211722],\n",
       "       [82.66391279, 55.93539653, 56.23785965, 95.31101116],\n",
       "       [82.67897431, 55.92745543, 56.24175589, 95.30821557],\n",
       "       [82.68461893, 55.92453854, 56.24337054, 95.30577077]])"
      ]
     },
     "execution_count": 380,
     "metadata": {},
     "output_type": "execute_result"
    }
   ],
   "source": [
    "z = results.forecast(y =train.values[-lag_order:],steps = 9)\n",
    "z"
   ]
  },
  {
   "cell_type": "code",
   "execution_count": 381,
   "metadata": {},
   "outputs": [
    {
     "data": {
      "text/html": [
       "<div>\n",
       "<style scoped>\n",
       "    .dataframe tbody tr th:only-of-type {\n",
       "        vertical-align: middle;\n",
       "    }\n",
       "\n",
       "    .dataframe tbody tr th {\n",
       "        vertical-align: top;\n",
       "    }\n",
       "\n",
       "    .dataframe thead th {\n",
       "        text-align: right;\n",
       "    }\n",
       "</style>\n",
       "<table border=\"1\" class=\"dataframe\">\n",
       "  <thead>\n",
       "    <tr style=\"text-align: right;\">\n",
       "      <th></th>\n",
       "      <th>0T</th>\n",
       "      <th>1T</th>\n",
       "      <th>2T</th>\n",
       "      <th>3T</th>\n",
       "    </tr>\n",
       "  </thead>\n",
       "  <tbody>\n",
       "    <tr>\n",
       "      <th>2021-09-24 07:58:43</th>\n",
       "      <td>76.563085</td>\n",
       "      <td>55.065287</td>\n",
       "      <td>60.897978</td>\n",
       "      <td>91.937408</td>\n",
       "    </tr>\n",
       "    <tr>\n",
       "      <th>2021-09-24 15:58:52</th>\n",
       "      <td>78.204015</td>\n",
       "      <td>57.448725</td>\n",
       "      <td>55.913422</td>\n",
       "      <td>92.790735</td>\n",
       "    </tr>\n",
       "    <tr>\n",
       "      <th>2021-09-24 23:59:01</th>\n",
       "      <td>81.271374</td>\n",
       "      <td>56.201662</td>\n",
       "      <td>56.106515</td>\n",
       "      <td>95.377830</td>\n",
       "    </tr>\n",
       "    <tr>\n",
       "      <th>2021-09-25 07:59:10</th>\n",
       "      <td>82.016084</td>\n",
       "      <td>56.067073</td>\n",
       "      <td>56.082116</td>\n",
       "      <td>95.607865</td>\n",
       "    </tr>\n",
       "    <tr>\n",
       "      <th>2021-09-25 15:59:19</th>\n",
       "      <td>82.480177</td>\n",
       "      <td>55.992548</td>\n",
       "      <td>56.192375</td>\n",
       "      <td>95.352274</td>\n",
       "    </tr>\n",
       "    <tr>\n",
       "      <th>2021-09-25 23:59:28</th>\n",
       "      <td>82.616200</td>\n",
       "      <td>55.961307</td>\n",
       "      <td>56.223413</td>\n",
       "      <td>95.312117</td>\n",
       "    </tr>\n",
       "    <tr>\n",
       "      <th>2021-09-26 07:59:37</th>\n",
       "      <td>82.663913</td>\n",
       "      <td>55.935397</td>\n",
       "      <td>56.237860</td>\n",
       "      <td>95.311011</td>\n",
       "    </tr>\n",
       "    <tr>\n",
       "      <th>2021-09-26 15:59:46</th>\n",
       "      <td>82.678974</td>\n",
       "      <td>55.927455</td>\n",
       "      <td>56.241756</td>\n",
       "      <td>95.308216</td>\n",
       "    </tr>\n",
       "    <tr>\n",
       "      <th>2021-09-26 23:59:55</th>\n",
       "      <td>82.684619</td>\n",
       "      <td>55.924539</td>\n",
       "      <td>56.243371</td>\n",
       "      <td>95.305771</td>\n",
       "    </tr>\n",
       "  </tbody>\n",
       "</table>\n",
       "</div>"
      ],
      "text/plain": [
       "                            0T         1T         2T         3T\n",
       "2021-09-24 07:58:43  76.563085  55.065287  60.897978  91.937408\n",
       "2021-09-24 15:58:52  78.204015  57.448725  55.913422  92.790735\n",
       "2021-09-24 23:59:01  81.271374  56.201662  56.106515  95.377830\n",
       "2021-09-25 07:59:10  82.016084  56.067073  56.082116  95.607865\n",
       "2021-09-25 15:59:19  82.480177  55.992548  56.192375  95.352274\n",
       "2021-09-25 23:59:28  82.616200  55.961307  56.223413  95.312117\n",
       "2021-09-26 07:59:37  82.663913  55.935397  56.237860  95.311011\n",
       "2021-09-26 15:59:46  82.678974  55.927455  56.241756  95.308216\n",
       "2021-09-26 23:59:55  82.684619  55.924539  56.243371  95.305771"
      ]
     },
     "execution_count": 381,
     "metadata": {},
     "output_type": "execute_result"
    }
   ],
   "source": [
    "# add the values to the dataframe df_forecast\n",
    "idx=pd.date_range('2021-09-24 07:58:43',periods = 9,freq ='28809S')\n",
    "df_forecast = pd.DataFrame(z, index = idx , columns = ['0T','1T','2T','3T'])\n",
    "\n",
    "\n",
    "df_forecast"
   ]
  },
  {
   "cell_type": "markdown",
   "metadata": {},
   "source": [
    "We use Rmse error to evaluate the model performance"
   ]
  },
  {
   "cell_type": "code",
   "execution_count": 382,
   "metadata": {},
   "outputs": [
    {
     "name": "stdout",
     "output_type": "stream",
     "text": [
      "Rmse for sensor 0 is : 38.49568339389723 The mean test values of sensor 0 is : 63.21870698711112\n",
      "Rmse for sensor 1 is : 0.5746793882400698 The mean test values of sensor 1 is : 56.00040807911111\n",
      "Rmse for sensor 2 is : 1.6432441219958358 The mean test values of sensor 2 is : 56.002081082\n",
      "Rmse for sensor 3 is : 31.5880670321061 The mean test values of sensor 3 is : 85.45247606433333\n"
     ]
    }
   ],
   "source": [
    "from statsmodels.tools.eval_measures import rmse\n",
    "error = rmse(test['0'],df_forecast['0T'])\n",
    "print('Rmse for sensor 0 is :',error,'The mean test values of sensor 0 is :',test['0'].mean())\n",
    "error = rmse(test['1'],df_forecast['1T'])\n",
    "print('Rmse for sensor 1 is :',error,'The mean test values of sensor 1 is :',test['1'].mean())\n",
    "error = rmse(test['2'],df_forecast['2T'])\n",
    "print('Rmse for sensor 2 is :',error,'The mean test values of sensor 2 is :',test['2'].mean())\n",
    "error = rmse(test['3'],df_forecast['3T'])\n",
    "print('Rmse for sensor 3 is :',error,'The mean test values of sensor 3 is :',test['3'].mean())"
   ]
  },
  {
   "cell_type": "markdown",
   "metadata": {},
   "source": [
    "We see that the RMSE is less than the mean values of the test data for each column. So our prediction is good."
   ]
  },
  {
   "cell_type": "code",
   "execution_count": 383,
   "metadata": {},
   "outputs": [
    {
     "data": {
      "text/plain": [
       "<AxesSubplot:xlabel='date'>"
      ]
     },
     "execution_count": 383,
     "metadata": {},
     "output_type": "execute_result"
    },
    {
     "data": {
      "image/png": "[encoded data removed]",
      "text/plain": [
       "<Figure size 432x288 with 1 Axes>"
      ]
     },
     "metadata": {
      "needs_background": "light"
     },
     "output_type": "display_data"
    }
   ],
   "source": [
    "df_forecast['0T'].plot()\n",
    "test['0'].plot()"
   ]
  },
  {
   "cell_type": "code",
   "execution_count": 384,
   "metadata": {},
   "outputs": [
    {
     "data": {
      "text/plain": [
       "<AxesSubplot:xlabel='date'>"
      ]
     },
     "execution_count": 384,
     "metadata": {},
     "output_type": "execute_result"
    },
    {
     "data": {
      "image/png": "[encoded data removed]",
      "text/plain": [
       "<Figure size 432x288 with 1 Axes>"
      ]
     },
     "metadata": {
      "needs_background": "light"
     },
     "output_type": "display_data"
    }
   ],
   "source": [
    "df_forecast['1T'].plot()\n",
    "test['1'].plot()"
   ]
  },
  {
   "cell_type": "code",
   "execution_count": 385,
   "metadata": {},
   "outputs": [
    {
     "data": {
      "text/plain": [
       "<AxesSubplot:xlabel='date'>"
      ]
     },
     "execution_count": 385,
     "metadata": {},
     "output_type": "execute_result"
    },
    {
     "data": {
      "image/png": "[encoded data removed]",
      "text/plain": [
       "<Figure size 432x288 with 1 Axes>"
      ]
     },
     "metadata": {
      "needs_background": "light"
     },
     "output_type": "display_data"
    }
   ],
   "source": [
    "df_forecast['2T'].plot()\n",
    "test['2'].plot()"
   ]
  },
  {
   "cell_type": "code",
   "execution_count": 386,
   "metadata": {},
   "outputs": [
    {
     "data": {
      "text/plain": [
       "<AxesSubplot:xlabel='date'>"
      ]
     },
     "execution_count": 386,
     "metadata": {},
     "output_type": "execute_result"
    },
    {
     "data": {
      "image/png": "[encoded data removed]",
      "text/plain": [
       "<Figure size 432x288 with 1 Axes>"
      ]
     },
     "metadata": {
      "needs_background": "light"
     },
     "output_type": "display_data"
    }
   ],
   "source": [
    "df_forecast['3T'].plot()\n",
    "test['3'].plot()"
   ]
  },
  {
   "cell_type": "markdown",
   "metadata": {},
   "source": [
    "#  VARMA model"
   ]
  },
  {
   "cell_type": "code",
   "execution_count": 387,
   "metadata": {},
   "outputs": [],
   "source": [
    "df1=df"
   ]
  },
  {
   "cell_type": "code",
   "execution_count": 388,
   "metadata": {},
   "outputs": [],
   "source": [
    "# capping sensor 0 \n",
    "for i in range(len(df1)):\n",
    "    if df1['0'][i] > 115:\n",
    "        df1['0'][i]= 115\n",
    "    elif df1['0'][i] < -80:\n",
    "        df1['0'][i]= -80\n",
    "\n",
    "        \n",
    "#capping sensor 1\n",
    "for i in range(len(df1)):\n",
    "    if df1['1'][i] > 55:\n",
    "        df1['1'][i]= 55\n",
    "    elif df1['1'][i] < -55:\n",
    "        df1['1'][i]= -55\n",
    "\n",
    "#capping sensor 2\n",
    "for i in range(len(df1)):\n",
    "    if df1['2'][i] > 55:\n",
    "        df1['2'][i]= 55\n",
    "    elif df1['2'][i] < -55:\n",
    "        df1['2'][i]= -55\n",
    "        \n",
    "\n",
    "#capping sensor 3\n",
    "for i in range(len(df1)):\n",
    "    if df1['3'][i] > 80:\n",
    "        df1['3'][i]= 80\n",
    "    elif df1['3'][i] < -95:\n",
    "        df1['3'][i]= -95\n"
   ]
  },
  {
   "cell_type": "code",
   "execution_count": 389,
   "metadata": {},
   "outputs": [],
   "source": [
    "#converting to positive values\n",
    "\n",
    "for i in range(len(df1)):\n",
    "    df1['0'][i]=df1['0'][i] + 81\n",
    "\n",
    "for i in range(len(df1)):\n",
    "    df1['1'][i]=df1['1'][i] + 56\n",
    "\n",
    "for i in range(len(df1)):\n",
    "    df1['2'][i]=df1['2'][i] + 56\n",
    "\n",
    "for i in range(len(df1)):\n",
    "    df1['3'][i]=df1['3'][i] + 96\n"
   ]
  },
  {
   "cell_type": "code",
   "execution_count": 390,
   "metadata": {},
   "outputs": [],
   "source": [
    "#split into train test\n",
    "nob= 9 \n",
    "train,test = df1[0:-nob],df1[-nob:]"
   ]
  },
  {
   "cell_type": "code",
   "execution_count": 391,
   "metadata": {},
   "outputs": [
    {
     "data": {
      "text/html": [
       "<table class=\"simpletable\">\n",
       "<caption>Statespace Model Results</caption>\n",
       "<tr>\n",
       "  <th>Dep. Variable:</th>   <td>['0', '1', '2', '3']</td> <th>  No. Observations:  </th>    <td>2991</td>   \n",
       "</tr>\n",
       "<tr>\n",
       "  <th>Model:</th>                <td>VARMA(1,2)</td>      <th>  Log Likelihood     </th> <td>-45465.987</td>\n",
       "</tr>\n",
       "<tr>\n",
       "  <th></th>                      <td>+ intercept</td>     <th>  AIC                </th>  <td>91055.973</td>\n",
       "</tr>\n",
       "<tr>\n",
       "  <th>Date:</th>              <td>Wed, 18 Nov 2020</td>   <th>  BIC                </th>  <td>91428.182</td>\n",
       "</tr>\n",
       "<tr>\n",
       "  <th>Time:</th>                  <td>20:48:22</td>       <th>  HQIC               </th>  <td>91189.876</td>\n",
       "</tr>\n",
       "<tr>\n",
       "  <th>Sample:</th>                    <td>0</td>          <th>                     </th>      <td> </td>    \n",
       "</tr>\n",
       "<tr>\n",
       "  <th></th>                        <td> - 2991</td>       <th>                     </th>      <td> </td>    \n",
       "</tr>\n",
       "<tr>\n",
       "  <th>Covariance Type:</th>          <td>opg</td>         <th>                     </th>      <td> </td>    \n",
       "</tr>\n",
       "</table>\n",
       "<table class=\"simpletable\">\n",
       "<tr>\n",
       "  <th>Ljung-Box (L1) (Q):</th>     <td>0.11, 0.07, 0.02, 0.02</td> <th>  Jarque-Bera (JB):  </th> <td>40969.10, 128131.30, 111516.03, 123870.50</td>\n",
       "</tr>\n",
       "<tr>\n",
       "  <th>Prob(Q):</th>                <td>0.74, 0.78, 0.88, 0.90</td> <th>  Prob(JB):          </th>          <td>0.00, 0.00, 0.00, 0.00</td>          \n",
       "</tr>\n",
       "<tr>\n",
       "  <th>Heteroskedasticity (H):</th> <td>0.73, 0.67, 0.63, 0.81</td> <th>  Skew:              </th>        <td>-3.01, -5.54, -5.26, -5.54</td>        \n",
       "</tr>\n",
       "<tr>\n",
       "  <th>Prob(H) (two-sided):</th>    <td>0.00, 0.00, 0.00, 0.00</td> <th>  Kurtosis:          </th>        <td>20.10, 33.09, 31.00, 32.52</td>        \n",
       "</tr>\n",
       "</table>\n",
       "<table class=\"simpletable\">\n",
       "<caption>Results for equation 0</caption>\n",
       "<tr>\n",
       "      <td></td>         <th>coef</th>     <th>std err</th>      <th>z</th>      <th>P>|z|</th>  <th>[0.025</th>    <th>0.975]</th>  \n",
       "</tr>\n",
       "<tr>\n",
       "  <th>intercept</th> <td>  124.0341</td> <td>   62.776</td> <td>    1.976</td> <td> 0.048</td> <td>    0.995</td> <td>  247.073</td>\n",
       "</tr>\n",
       "<tr>\n",
       "  <th>L1.0</th>      <td>    0.3945</td> <td>    0.163</td> <td>    2.424</td> <td> 0.015</td> <td>    0.076</td> <td>    0.713</td>\n",
       "</tr>\n",
       "<tr>\n",
       "  <th>L1.1</th>      <td>    0.2132</td> <td>    0.287</td> <td>    0.744</td> <td> 0.457</td> <td>   -0.348</td> <td>    0.775</td>\n",
       "</tr>\n",
       "<tr>\n",
       "  <th>L1.2</th>      <td>   -0.0856</td> <td>    0.337</td> <td>   -0.254</td> <td> 0.799</td> <td>   -0.746</td> <td>    0.575</td>\n",
       "</tr>\n",
       "<tr>\n",
       "  <th>L1.3</th>      <td>   -0.2325</td> <td>    0.410</td> <td>   -0.567</td> <td> 0.571</td> <td>   -1.037</td> <td>    0.571</td>\n",
       "</tr>\n",
       "<tr>\n",
       "  <th>L1.e(0)</th>   <td>   -0.1451</td> <td>    0.164</td> <td>   -0.887</td> <td> 0.375</td> <td>   -0.466</td> <td>    0.176</td>\n",
       "</tr>\n",
       "<tr>\n",
       "  <th>L1.e(1)</th>   <td>   -0.2540</td> <td>    0.291</td> <td>   -0.872</td> <td> 0.383</td> <td>   -0.825</td> <td>    0.317</td>\n",
       "</tr>\n",
       "<tr>\n",
       "  <th>L1.e(2)</th>   <td>   -0.0254</td> <td>    0.339</td> <td>   -0.075</td> <td> 0.940</td> <td>   -0.689</td> <td>    0.638</td>\n",
       "</tr>\n",
       "<tr>\n",
       "  <th>L1.e(3)</th>   <td>    0.2367</td> <td>    0.411</td> <td>    0.576</td> <td> 0.565</td> <td>   -0.569</td> <td>    1.043</td>\n",
       "</tr>\n",
       "<tr>\n",
       "  <th>L2.e(0)</th>   <td>    0.0673</td> <td>    0.045</td> <td>    1.513</td> <td> 0.130</td> <td>   -0.020</td> <td>    0.155</td>\n",
       "</tr>\n",
       "<tr>\n",
       "  <th>L2.e(1)</th>   <td>   -0.0037</td> <td>    0.031</td> <td>   -0.120</td> <td> 0.904</td> <td>   -0.064</td> <td>    0.056</td>\n",
       "</tr>\n",
       "<tr>\n",
       "  <th>L2.e(2)</th>   <td>   -0.0962</td> <td>    0.053</td> <td>   -1.831</td> <td> 0.067</td> <td>   -0.199</td> <td>    0.007</td>\n",
       "</tr>\n",
       "<tr>\n",
       "  <th>L2.e(3)</th>   <td>    0.0357</td> <td>    0.019</td> <td>    1.845</td> <td> 0.065</td> <td>   -0.002</td> <td>    0.074</td>\n",
       "</tr>\n",
       "</table>\n",
       "<table class=\"simpletable\">\n",
       "<caption>Results for equation 1</caption>\n",
       "<tr>\n",
       "      <td></td>         <th>coef</th>     <th>std err</th>      <th>z</th>      <th>P>|z|</th>  <th>[0.025</th>    <th>0.975]</th>  \n",
       "</tr>\n",
       "<tr>\n",
       "  <th>intercept</th> <td>   97.7610</td> <td>   46.688</td> <td>    2.094</td> <td> 0.036</td> <td>    6.254</td> <td>  189.268</td>\n",
       "</tr>\n",
       "<tr>\n",
       "  <th>L1.0</th>      <td>   -0.1905</td> <td>    0.140</td> <td>   -1.358</td> <td> 0.175</td> <td>   -0.465</td> <td>    0.084</td>\n",
       "</tr>\n",
       "<tr>\n",
       "  <th>L1.1</th>      <td>    0.3688</td> <td>    0.246</td> <td>    1.501</td> <td> 0.133</td> <td>   -0.113</td> <td>    0.850</td>\n",
       "</tr>\n",
       "<tr>\n",
       "  <th>L1.2</th>      <td>    0.2721</td> <td>    0.271</td> <td>    1.003</td> <td> 0.316</td> <td>   -0.260</td> <td>    0.804</td>\n",
       "</tr>\n",
       "<tr>\n",
       "  <th>L1.3</th>      <td>   -0.1601</td> <td>    0.283</td> <td>   -0.565</td> <td> 0.572</td> <td>   -0.716</td> <td>    0.395</td>\n",
       "</tr>\n",
       "<tr>\n",
       "  <th>L1.e(0)</th>   <td>    0.1863</td> <td>    0.142</td> <td>    1.315</td> <td> 0.188</td> <td>   -0.091</td> <td>    0.464</td>\n",
       "</tr>\n",
       "<tr>\n",
       "  <th>L1.e(1)</th>   <td>   -0.3070</td> <td>    0.245</td> <td>   -1.252</td> <td> 0.211</td> <td>   -0.788</td> <td>    0.174</td>\n",
       "</tr>\n",
       "<tr>\n",
       "  <th>L1.e(2)</th>   <td>   -0.2167</td> <td>    0.272</td> <td>   -0.798</td> <td> 0.425</td> <td>   -0.749</td> <td>    0.316</td>\n",
       "</tr>\n",
       "<tr>\n",
       "  <th>L1.e(3)</th>   <td>    0.1701</td> <td>    0.284</td> <td>    0.599</td> <td> 0.549</td> <td>   -0.386</td> <td>    0.726</td>\n",
       "</tr>\n",
       "<tr>\n",
       "  <th>L2.e(0)</th>   <td>    0.0320</td> <td>    0.038</td> <td>    0.849</td> <td> 0.396</td> <td>   -0.042</td> <td>    0.106</td>\n",
       "</tr>\n",
       "<tr>\n",
       "  <th>L2.e(1)</th>   <td>   -0.0127</td> <td>    0.022</td> <td>   -0.586</td> <td> 0.558</td> <td>   -0.055</td> <td>    0.030</td>\n",
       "</tr>\n",
       "<tr>\n",
       "  <th>L2.e(2)</th>   <td>    0.0136</td> <td>    0.026</td> <td>    0.517</td> <td> 0.605</td> <td>   -0.038</td> <td>    0.065</td>\n",
       "</tr>\n",
       "<tr>\n",
       "  <th>L2.e(3)</th>   <td>    0.0431</td> <td>    0.014</td> <td>    3.102</td> <td> 0.002</td> <td>    0.016</td> <td>    0.070</td>\n",
       "</tr>\n",
       "</table>\n",
       "<table class=\"simpletable\">\n",
       "<caption>Results for equation 2</caption>\n",
       "<tr>\n",
       "      <td></td>         <th>coef</th>     <th>std err</th>      <th>z</th>      <th>P>|z|</th>  <th>[0.025</th>    <th>0.975]</th>  \n",
       "</tr>\n",
       "<tr>\n",
       "  <th>intercept</th> <td>   92.0547</td> <td>   63.775</td> <td>    1.443</td> <td> 0.149</td> <td>  -32.942</td> <td>  217.051</td>\n",
       "</tr>\n",
       "<tr>\n",
       "  <th>L1.0</th>      <td>    0.1300</td> <td>    0.175</td> <td>    0.741</td> <td> 0.458</td> <td>   -0.214</td> <td>    0.474</td>\n",
       "</tr>\n",
       "<tr>\n",
       "  <th>L1.1</th>      <td>    0.4132</td> <td>    0.307</td> <td>    1.344</td> <td> 0.179</td> <td>   -0.189</td> <td>    1.016</td>\n",
       "</tr>\n",
       "<tr>\n",
       "  <th>L1.2</th>      <td>    0.3038</td> <td>    0.391</td> <td>    0.777</td> <td> 0.437</td> <td>   -0.462</td> <td>    1.070</td>\n",
       "</tr>\n",
       "<tr>\n",
       "  <th>L1.3</th>      <td>   -0.4733</td> <td>    0.437</td> <td>   -1.083</td> <td> 0.279</td> <td>   -1.330</td> <td>    0.383</td>\n",
       "</tr>\n",
       "<tr>\n",
       "  <th>L1.e(0)</th>   <td>   -0.1282</td> <td>    0.175</td> <td>   -0.732</td> <td> 0.464</td> <td>   -0.471</td> <td>    0.215</td>\n",
       "</tr>\n",
       "<tr>\n",
       "  <th>L1.e(1)</th>   <td>   -0.3784</td> <td>    0.308</td> <td>   -1.230</td> <td> 0.219</td> <td>   -0.981</td> <td>    0.224</td>\n",
       "</tr>\n",
       "<tr>\n",
       "  <th>L1.e(2)</th>   <td>   -0.2612</td> <td>    0.391</td> <td>   -0.668</td> <td> 0.504</td> <td>   -1.027</td> <td>    0.505</td>\n",
       "</tr>\n",
       "<tr>\n",
       "  <th>L1.e(3)</th>   <td>    0.4897</td> <td>    0.437</td> <td>    1.120</td> <td> 0.263</td> <td>   -0.367</td> <td>    1.347</td>\n",
       "</tr>\n",
       "<tr>\n",
       "  <th>L2.e(0)</th>   <td>    0.0233</td> <td>    0.046</td> <td>    0.510</td> <td> 0.610</td> <td>   -0.066</td> <td>    0.113</td>\n",
       "</tr>\n",
       "<tr>\n",
       "  <th>L2.e(1)</th>   <td>   -0.0022</td> <td>    0.031</td> <td>   -0.074</td> <td> 0.941</td> <td>   -0.062</td> <td>    0.058</td>\n",
       "</tr>\n",
       "<tr>\n",
       "  <th>L2.e(2)</th>   <td>    0.0104</td> <td>    0.047</td> <td>    0.223</td> <td> 0.824</td> <td>   -0.081</td> <td>    0.102</td>\n",
       "</tr>\n",
       "<tr>\n",
       "  <th>L2.e(3)</th>   <td>    0.0124</td> <td>    0.025</td> <td>    0.497</td> <td> 0.619</td> <td>   -0.036</td> <td>    0.061</td>\n",
       "</tr>\n",
       "</table>\n",
       "<table class=\"simpletable\">\n",
       "<caption>Results for equation 3</caption>\n",
       "<tr>\n",
       "      <td></td>         <th>coef</th>     <th>std err</th>      <th>z</th>      <th>P>|z|</th>  <th>[0.025</th>    <th>0.975]</th>  \n",
       "</tr>\n",
       "<tr>\n",
       "  <th>intercept</th> <td>  164.2261</td> <td>   58.772</td> <td>    2.794</td> <td> 0.005</td> <td>   49.035</td> <td>  279.417</td>\n",
       "</tr>\n",
       "<tr>\n",
       "  <th>L1.0</th>      <td>   -0.0155</td> <td>    0.154</td> <td>   -0.100</td> <td> 0.920</td> <td>   -0.318</td> <td>    0.287</td>\n",
       "</tr>\n",
       "<tr>\n",
       "  <th>L1.1</th>      <td>    0.4204</td> <td>    0.271</td> <td>    1.549</td> <td> 0.121</td> <td>   -0.111</td> <td>    0.952</td>\n",
       "</tr>\n",
       "<tr>\n",
       "  <th>L1.2</th>      <td>    0.1037</td> <td>    0.382</td> <td>    0.272</td> <td> 0.786</td> <td>   -0.645</td> <td>    0.852</td>\n",
       "</tr>\n",
       "<tr>\n",
       "  <th>L1.3</th>      <td>   -0.2620</td> <td>    0.359</td> <td>   -0.729</td> <td> 0.466</td> <td>   -0.966</td> <td>    0.442</td>\n",
       "</tr>\n",
       "<tr>\n",
       "  <th>L1.e(0)</th>   <td>    0.0078</td> <td>    0.155</td> <td>    0.050</td> <td> 0.960</td> <td>   -0.297</td> <td>    0.313</td>\n",
       "</tr>\n",
       "<tr>\n",
       "  <th>L1.e(1)</th>   <td>   -0.4160</td> <td>    0.273</td> <td>   -1.521</td> <td> 0.128</td> <td>   -0.952</td> <td>    0.120</td>\n",
       "</tr>\n",
       "<tr>\n",
       "  <th>L1.e(2)</th>   <td>   -0.0790</td> <td>    0.381</td> <td>   -0.207</td> <td> 0.836</td> <td>   -0.825</td> <td>    0.667</td>\n",
       "</tr>\n",
       "<tr>\n",
       "  <th>L1.e(3)</th>   <td>    0.2873</td> <td>    0.360</td> <td>    0.799</td> <td> 0.424</td> <td>   -0.418</td> <td>    0.992</td>\n",
       "</tr>\n",
       "<tr>\n",
       "  <th>L2.e(0)</th>   <td>    0.0031</td> <td>    0.036</td> <td>    0.086</td> <td> 0.932</td> <td>   -0.068</td> <td>    0.075</td>\n",
       "</tr>\n",
       "<tr>\n",
       "  <th>L2.e(1)</th>   <td>    0.0084</td> <td>    0.029</td> <td>    0.294</td> <td> 0.769</td> <td>   -0.048</td> <td>    0.065</td>\n",
       "</tr>\n",
       "<tr>\n",
       "  <th>L2.e(2)</th>   <td>   -0.0479</td> <td>    0.050</td> <td>   -0.962</td> <td> 0.336</td> <td>   -0.145</td> <td>    0.050</td>\n",
       "</tr>\n",
       "<tr>\n",
       "  <th>L2.e(3)</th>   <td>   -0.0194</td> <td>    0.040</td> <td>   -0.487</td> <td> 0.626</td> <td>   -0.097</td> <td>    0.059</td>\n",
       "</tr>\n",
       "</table>\n",
       "<table class=\"simpletable\">\n",
       "<caption>Error covariance matrix</caption>\n",
       "<tr>\n",
       "        <td></td>          <th>coef</th>     <th>std err</th>      <th>z</th>      <th>P>|z|</th>  <th>[0.025</th>    <th>0.975]</th>  \n",
       "</tr>\n",
       "<tr>\n",
       "  <th>sqrt.var.0</th>   <td>   14.2139</td> <td>    0.087</td> <td>  164.010</td> <td> 0.000</td> <td>   14.044</td> <td>   14.384</td>\n",
       "</tr>\n",
       "<tr>\n",
       "  <th>sqrt.cov.0.1</th> <td>   -0.1262</td> <td>    0.158</td> <td>   -0.798</td> <td> 0.425</td> <td>   -0.436</td> <td>    0.184</td>\n",
       "</tr>\n",
       "<tr>\n",
       "  <th>sqrt.var.1</th>   <td>    8.5790</td> <td>    0.171</td> <td>   50.244</td> <td> 0.000</td> <td>    8.244</td> <td>    8.914</td>\n",
       "</tr>\n",
       "<tr>\n",
       "  <th>sqrt.cov.0.2</th> <td>   -0.5331</td> <td>    0.270</td> <td>   -1.971</td> <td> 0.049</td> <td>   -1.063</td> <td>   -0.003</td>\n",
       "</tr>\n",
       "<tr>\n",
       "  <th>sqrt.cov.1.2</th> <td>    0.5287</td> <td>    0.165</td> <td>    3.197</td> <td> 0.001</td> <td>    0.205</td> <td>    0.853</td>\n",
       "</tr>\n",
       "<tr>\n",
       "  <th>sqrt.var.2</th>   <td>    8.6039</td> <td>    0.149</td> <td>   57.687</td> <td> 0.000</td> <td>    8.312</td> <td>    8.896</td>\n",
       "</tr>\n",
       "<tr>\n",
       "  <th>sqrt.cov.0.3</th> <td>   -0.3655</td> <td>    0.243</td> <td>   -1.507</td> <td> 0.132</td> <td>   -0.841</td> <td>    0.110</td>\n",
       "</tr>\n",
       "<tr>\n",
       "  <th>sqrt.cov.1.3</th> <td>    0.2385</td> <td>    0.296</td> <td>    0.805</td> <td> 0.421</td> <td>   -0.342</td> <td>    0.819</td>\n",
       "</tr>\n",
       "<tr>\n",
       "  <th>sqrt.cov.2.3</th> <td>    0.1421</td> <td>    0.224</td> <td>    0.635</td> <td> 0.525</td> <td>   -0.296</td> <td>    0.581</td>\n",
       "</tr>\n",
       "<tr>\n",
       "  <th>sqrt.var.3</th>   <td>   12.8258</td> <td>    0.322</td> <td>   39.821</td> <td> 0.000</td> <td>   12.194</td> <td>   13.457</td>\n",
       "</tr>\n",
       "</table><br/><br/>Warnings:<br/>[1] Covariance matrix calculated using the outer product of gradients (complex-step)."
      ],
      "text/plain": [
       "<class 'statsmodels.iolib.summary.Summary'>\n",
       "\"\"\"\n",
       "                            Statespace Model Results                            \n",
       "================================================================================\n",
       "Dep. Variable:     ['0', '1', '2', '3']   No. Observations:                 2991\n",
       "Model:                       VARMA(1,2)   Log Likelihood              -45465.987\n",
       "                            + intercept   AIC                          91055.973\n",
       "Date:                  Wed, 18 Nov 2020   BIC                          91428.182\n",
       "Time:                          20:48:22   HQIC                         91189.876\n",
       "Sample:                               0                                         \n",
       "                                 - 2991                                         \n",
       "Covariance Type:                    opg                                         \n",
       "==============================================================================================================\n",
       "Ljung-Box (L1) (Q):     0.11, 0.07, 0.02, 0.02   Jarque-Bera (JB):   40969.10, 128131.30, 111516.03, 123870.50\n",
       "Prob(Q):                0.74, 0.78, 0.88, 0.90   Prob(JB):                              0.00, 0.00, 0.00, 0.00\n",
       "Heteroskedasticity (H): 0.73, 0.67, 0.63, 0.81   Skew:                              -3.01, -5.54, -5.26, -5.54\n",
       "Prob(H) (two-sided):    0.00, 0.00, 0.00, 0.00   Kurtosis:                          20.10, 33.09, 31.00, 32.52\n",
       "                            Results for equation 0                            \n",
       "==============================================================================\n",
       "                 coef    std err          z      P>|z|      [0.025      0.975]\n",
       "------------------------------------------------------------------------------\n",
       "intercept    124.0341     62.776      1.976      0.048       0.995     247.073\n",
       "L1.0           0.3945      0.163      2.424      0.015       0.076       0.713\n",
       "L1.1           0.2132      0.287      0.744      0.457      -0.348       0.775\n",
       "L1.2          -0.0856      0.337     -0.254      0.799      -0.746       0.575\n",
       "L1.3          -0.2325      0.410     -0.567      0.571      -1.037       0.571\n",
       "L1.e(0)       -0.1451      0.164     -0.887      0.375      -0.466       0.176\n",
       "L1.e(1)       -0.2540      0.291     -0.872      0.383      -0.825       0.317\n",
       "L1.e(2)       -0.0254      0.339     -0.075      0.940      -0.689       0.638\n",
       "L1.e(3)        0.2367      0.411      0.576      0.565      -0.569       1.043\n",
       "L2.e(0)        0.0673      0.045      1.513      0.130      -0.020       0.155\n",
       "L2.e(1)       -0.0037      0.031     -0.120      0.904      -0.064       0.056\n",
       "L2.e(2)       -0.0962      0.053     -1.831      0.067      -0.199       0.007\n",
       "L2.e(3)        0.0357      0.019      1.845      0.065      -0.002       0.074\n",
       "                            Results for equation 1                            \n",
       "==============================================================================\n",
       "                 coef    std err          z      P>|z|      [0.025      0.975]\n",
       "------------------------------------------------------------------------------\n",
       "intercept     97.7610     46.688      2.094      0.036       6.254     189.268\n",
       "L1.0          -0.1905      0.140     -1.358      0.175      -0.465       0.084\n",
       "L1.1           0.3688      0.246      1.501      0.133      -0.113       0.850\n",
       "L1.2           0.2721      0.271      1.003      0.316      -0.260       0.804\n",
       "L1.3          -0.1601      0.283     -0.565      0.572      -0.716       0.395\n",
       "L1.e(0)        0.1863      0.142      1.315      0.188      -0.091       0.464\n",
       "L1.e(1)       -0.3070      0.245     -1.252      0.211      -0.788       0.174\n",
       "L1.e(2)       -0.2167      0.272     -0.798      0.425      -0.749       0.316\n",
       "L1.e(3)        0.1701      0.284      0.599      0.549      -0.386       0.726\n",
       "L2.e(0)        0.0320      0.038      0.849      0.396      -0.042       0.106\n",
       "L2.e(1)       -0.0127      0.022     -0.586      0.558      -0.055       0.030\n",
       "L2.e(2)        0.0136      0.026      0.517      0.605      -0.038       0.065\n",
       "L2.e(3)        0.0431      0.014      3.102      0.002       0.016       0.070\n",
       "                            Results for equation 2                            \n",
       "==============================================================================\n",
       "                 coef    std err          z      P>|z|      [0.025      0.975]\n",
       "------------------------------------------------------------------------------\n",
       "intercept     92.0547     63.775      1.443      0.149     -32.942     217.051\n",
       "L1.0           0.1300      0.175      0.741      0.458      -0.214       0.474\n",
       "L1.1           0.4132      0.307      1.344      0.179      -0.189       1.016\n",
       "L1.2           0.3038      0.391      0.777      0.437      -0.462       1.070\n",
       "L1.3          -0.4733      0.437     -1.083      0.279      -1.330       0.383\n",
       "L1.e(0)       -0.1282      0.175     -0.732      0.464      -0.471       0.215\n",
       "L1.e(1)       -0.3784      0.308     -1.230      0.219      -0.981       0.224\n",
       "L1.e(2)       -0.2612      0.391     -0.668      0.504      -1.027       0.505\n",
       "L1.e(3)        0.4897      0.437      1.120      0.263      -0.367       1.347\n",
       "L2.e(0)        0.0233      0.046      0.510      0.610      -0.066       0.113\n",
       "L2.e(1)       -0.0022      0.031     -0.074      0.941      -0.062       0.058\n",
       "L2.e(2)        0.0104      0.047      0.223      0.824      -0.081       0.102\n",
       "L2.e(3)        0.0124      0.025      0.497      0.619      -0.036       0.061\n",
       "                            Results for equation 3                            \n",
       "==============================================================================\n",
       "                 coef    std err          z      P>|z|      [0.025      0.975]\n",
       "------------------------------------------------------------------------------\n",
       "intercept    164.2261     58.772      2.794      0.005      49.035     279.417\n",
       "L1.0          -0.0155      0.154     -0.100      0.920      -0.318       0.287\n",
       "L1.1           0.4204      0.271      1.549      0.121      -0.111       0.952\n",
       "L1.2           0.1037      0.382      0.272      0.786      -0.645       0.852\n",
       "L1.3          -0.2620      0.359     -0.729      0.466      -0.966       0.442\n",
       "L1.e(0)        0.0078      0.155      0.050      0.960      -0.297       0.313\n",
       "L1.e(1)       -0.4160      0.273     -1.521      0.128      -0.952       0.120\n",
       "L1.e(2)       -0.0790      0.381     -0.207      0.836      -0.825       0.667\n",
       "L1.e(3)        0.2873      0.360      0.799      0.424      -0.418       0.992\n",
       "L2.e(0)        0.0031      0.036      0.086      0.932      -0.068       0.075\n",
       "L2.e(1)        0.0084      0.029      0.294      0.769      -0.048       0.065\n",
       "L2.e(2)       -0.0479      0.050     -0.962      0.336      -0.145       0.050\n",
       "L2.e(3)       -0.0194      0.040     -0.487      0.626      -0.097       0.059\n",
       "                            Error covariance matrix                             \n",
       "================================================================================\n",
       "                   coef    std err          z      P>|z|      [0.025      0.975]\n",
       "--------------------------------------------------------------------------------\n",
       "sqrt.var.0      14.2139      0.087    164.010      0.000      14.044      14.384\n",
       "sqrt.cov.0.1    -0.1262      0.158     -0.798      0.425      -0.436       0.184\n",
       "sqrt.var.1       8.5790      0.171     50.244      0.000       8.244       8.914\n",
       "sqrt.cov.0.2    -0.5331      0.270     -1.971      0.049      -1.063      -0.003\n",
       "sqrt.cov.1.2     0.5287      0.165      3.197      0.001       0.205       0.853\n",
       "sqrt.var.2       8.6039      0.149     57.687      0.000       8.312       8.896\n",
       "sqrt.cov.0.3    -0.3655      0.243     -1.507      0.132      -0.841       0.110\n",
       "sqrt.cov.1.3     0.2385      0.296      0.805      0.421      -0.342       0.819\n",
       "sqrt.cov.2.3     0.1421      0.224      0.635      0.525      -0.296       0.581\n",
       "sqrt.var.3      12.8258      0.322     39.821      0.000      12.194      13.457\n",
       "================================================================================\n",
       "\n",
       "Warnings:\n",
       "[1] Covariance matrix calculated using the outer product of gradients (complex-step).\n",
       "\"\"\""
      ]
     },
     "execution_count": 391,
     "metadata": {},
     "output_type": "execute_result"
    }
   ],
   "source": [
    "from statsmodels.tsa.statespace.varmax import VARMAX, VARMAXResults\n",
    "model = VARMAX(train, order=(1,2), trend='c')\n",
    "results = model.fit(maxiter=1000, disp=False)\n",
    "results.summary()"
   ]
  },
  {
   "cell_type": "code",
   "execution_count": null,
   "metadata": {},
   "outputs": [],
   "source": []
  },
  {
   "cell_type": "code",
   "execution_count": 392,
   "metadata": {},
   "outputs": [
    {
     "data": {
      "text/html": [
       "<div>\n",
       "<style scoped>\n",
       "    .dataframe tbody tr th:only-of-type {\n",
       "        vertical-align: middle;\n",
       "    }\n",
       "\n",
       "    .dataframe tbody tr th {\n",
       "        vertical-align: top;\n",
       "    }\n",
       "\n",
       "    .dataframe thead th {\n",
       "        text-align: right;\n",
       "    }\n",
       "</style>\n",
       "<table border=\"1\" class=\"dataframe\">\n",
       "  <thead>\n",
       "    <tr style=\"text-align: right;\">\n",
       "      <th></th>\n",
       "      <th>0T</th>\n",
       "      <th>1T</th>\n",
       "      <th>2T</th>\n",
       "      <th>3T</th>\n",
       "    </tr>\n",
       "  </thead>\n",
       "  <tbody>\n",
       "    <tr>\n",
       "      <th>2021-09-24 07:58:43</th>\n",
       "      <td>76.563085</td>\n",
       "      <td>55.065287</td>\n",
       "      <td>60.897978</td>\n",
       "      <td>91.937408</td>\n",
       "    </tr>\n",
       "    <tr>\n",
       "      <th>2021-09-24 15:58:52</th>\n",
       "      <td>78.204015</td>\n",
       "      <td>57.448725</td>\n",
       "      <td>55.913422</td>\n",
       "      <td>92.790735</td>\n",
       "    </tr>\n",
       "    <tr>\n",
       "      <th>2021-09-24 23:59:01</th>\n",
       "      <td>81.271374</td>\n",
       "      <td>56.201662</td>\n",
       "      <td>56.106515</td>\n",
       "      <td>95.377830</td>\n",
       "    </tr>\n",
       "    <tr>\n",
       "      <th>2021-09-25 07:59:10</th>\n",
       "      <td>82.016084</td>\n",
       "      <td>56.067073</td>\n",
       "      <td>56.082116</td>\n",
       "      <td>95.607865</td>\n",
       "    </tr>\n",
       "    <tr>\n",
       "      <th>2021-09-25 15:59:19</th>\n",
       "      <td>82.480177</td>\n",
       "      <td>55.992548</td>\n",
       "      <td>56.192375</td>\n",
       "      <td>95.352274</td>\n",
       "    </tr>\n",
       "    <tr>\n",
       "      <th>2021-09-25 23:59:28</th>\n",
       "      <td>82.616200</td>\n",
       "      <td>55.961307</td>\n",
       "      <td>56.223413</td>\n",
       "      <td>95.312117</td>\n",
       "    </tr>\n",
       "    <tr>\n",
       "      <th>2021-09-26 07:59:37</th>\n",
       "      <td>82.663913</td>\n",
       "      <td>55.935397</td>\n",
       "      <td>56.237860</td>\n",
       "      <td>95.311011</td>\n",
       "    </tr>\n",
       "    <tr>\n",
       "      <th>2021-09-26 15:59:46</th>\n",
       "      <td>82.678974</td>\n",
       "      <td>55.927455</td>\n",
       "      <td>56.241756</td>\n",
       "      <td>95.308216</td>\n",
       "    </tr>\n",
       "    <tr>\n",
       "      <th>2021-09-26 23:59:55</th>\n",
       "      <td>82.684619</td>\n",
       "      <td>55.924539</td>\n",
       "      <td>56.243371</td>\n",
       "      <td>95.305771</td>\n",
       "    </tr>\n",
       "  </tbody>\n",
       "</table>\n",
       "</div>"
      ],
      "text/plain": [
       "                            0T         1T         2T         3T\n",
       "2021-09-24 07:58:43  76.563085  55.065287  60.897978  91.937408\n",
       "2021-09-24 15:58:52  78.204015  57.448725  55.913422  92.790735\n",
       "2021-09-24 23:59:01  81.271374  56.201662  56.106515  95.377830\n",
       "2021-09-25 07:59:10  82.016084  56.067073  56.082116  95.607865\n",
       "2021-09-25 15:59:19  82.480177  55.992548  56.192375  95.352274\n",
       "2021-09-25 23:59:28  82.616200  55.961307  56.223413  95.312117\n",
       "2021-09-26 07:59:37  82.663913  55.935397  56.237860  95.311011\n",
       "2021-09-26 15:59:46  82.678974  55.927455  56.241756  95.308216\n",
       "2021-09-26 23:59:55  82.684619  55.924539  56.243371  95.305771"
      ]
     },
     "execution_count": 392,
     "metadata": {},
     "output_type": "execute_result"
    }
   ],
   "source": [
    "df_forecast_1 = results.forecast(9)\n",
    "idx=pd.date_range('2021-09-24 07:58:43',periods = 9,freq ='28809S')\n",
    "df_forecast_1 =df_forecast.set_index(idx)\n",
    "df_forecast_1.columns = ['0T','1T','2T','3T']\n",
    "df_forecast_1\n"
   ]
  },
  {
   "cell_type": "code",
   "execution_count": 393,
   "metadata": {},
   "outputs": [
    {
     "data": {
      "text/html": [
       "<div>\n",
       "<style scoped>\n",
       "    .dataframe tbody tr th:only-of-type {\n",
       "        vertical-align: middle;\n",
       "    }\n",
       "\n",
       "    .dataframe tbody tr th {\n",
       "        vertical-align: top;\n",
       "    }\n",
       "\n",
       "    .dataframe thead th {\n",
       "        text-align: right;\n",
       "    }\n",
       "</style>\n",
       "<table border=\"1\" class=\"dataframe\">\n",
       "  <thead>\n",
       "    <tr style=\"text-align: right;\">\n",
       "      <th></th>\n",
       "      <th>0</th>\n",
       "      <th>1</th>\n",
       "      <th>2</th>\n",
       "      <th>3</th>\n",
       "    </tr>\n",
       "    <tr>\n",
       "      <th>date</th>\n",
       "      <th></th>\n",
       "      <th></th>\n",
       "      <th></th>\n",
       "      <th></th>\n",
       "    </tr>\n",
       "  </thead>\n",
       "  <tbody>\n",
       "    <tr>\n",
       "      <th>2021-09-24 07:58:43</th>\n",
       "      <td>162.002082</td>\n",
       "      <td>111.0</td>\n",
       "      <td>111.0</td>\n",
       "      <td>176.0</td>\n",
       "    </tr>\n",
       "    <tr>\n",
       "      <th>2021-09-24 15:58:53</th>\n",
       "      <td>161.988650</td>\n",
       "      <td>111.0</td>\n",
       "      <td>111.0</td>\n",
       "      <td>176.0</td>\n",
       "    </tr>\n",
       "    <tr>\n",
       "      <th>2021-09-24 23:59:02</th>\n",
       "      <td>161.992876</td>\n",
       "      <td>111.0</td>\n",
       "      <td>111.0</td>\n",
       "      <td>176.0</td>\n",
       "    </tr>\n",
       "    <tr>\n",
       "      <th>2021-09-25 07:59:12</th>\n",
       "      <td>161.992391</td>\n",
       "      <td>111.0</td>\n",
       "      <td>111.0</td>\n",
       "      <td>97.0</td>\n",
       "    </tr>\n",
       "    <tr>\n",
       "      <th>2021-09-25 15:59:22</th>\n",
       "      <td>82.000000</td>\n",
       "      <td>111.0</td>\n",
       "      <td>111.0</td>\n",
       "      <td>176.0</td>\n",
       "    </tr>\n",
       "    <tr>\n",
       "      <th>2021-09-25 23:59:31</th>\n",
       "      <td>82.000000</td>\n",
       "      <td>111.0</td>\n",
       "      <td>111.0</td>\n",
       "      <td>176.0</td>\n",
       "    </tr>\n",
       "    <tr>\n",
       "      <th>2021-09-26 07:59:41</th>\n",
       "      <td>161.992490</td>\n",
       "      <td>111.0</td>\n",
       "      <td>111.0</td>\n",
       "      <td>176.0</td>\n",
       "    </tr>\n",
       "    <tr>\n",
       "      <th>2021-09-26 15:59:50</th>\n",
       "      <td>162.000336</td>\n",
       "      <td>111.0</td>\n",
       "      <td>111.0</td>\n",
       "      <td>176.0</td>\n",
       "    </tr>\n",
       "    <tr>\n",
       "      <th>2021-09-27 00:00:00</th>\n",
       "      <td>161.999538</td>\n",
       "      <td>111.0</td>\n",
       "      <td>111.0</td>\n",
       "      <td>176.0</td>\n",
       "    </tr>\n",
       "  </tbody>\n",
       "</table>\n",
       "</div>"
      ],
      "text/plain": [
       "                              0      1      2      3\n",
       "date                                                \n",
       "2021-09-24 07:58:43  162.002082  111.0  111.0  176.0\n",
       "2021-09-24 15:58:53  161.988650  111.0  111.0  176.0\n",
       "2021-09-24 23:59:02  161.992876  111.0  111.0  176.0\n",
       "2021-09-25 07:59:12  161.992391  111.0  111.0   97.0\n",
       "2021-09-25 15:59:22   82.000000  111.0  111.0  176.0\n",
       "2021-09-25 23:59:31   82.000000  111.0  111.0  176.0\n",
       "2021-09-26 07:59:41  161.992490  111.0  111.0  176.0\n",
       "2021-09-26 15:59:50  162.000336  111.0  111.0  176.0\n",
       "2021-09-27 00:00:00  161.999538  111.0  111.0  176.0"
      ]
     },
     "execution_count": 393,
     "metadata": {},
     "output_type": "execute_result"
    }
   ],
   "source": [
    "test"
   ]
  },
  {
   "cell_type": "code",
   "execution_count": 394,
   "metadata": {},
   "outputs": [
    {
     "name": "stdout",
     "output_type": "stream",
     "text": [
      "Rmse for sensor 0 is : 71.57608707554692 The mean test values of sensor 0 is : 144.21870698711112\n",
      "Rmse for sensor 1 is : 54.944815844548124 The mean test values of sensor 1 is : 111.0\n",
      "Rmse for sensor 2 is : 54.338454132242944 The mean test values of sensor 2 is : 111.0\n",
      "Rmse for sensor 3 is : 76.76819315118954 The mean test values of sensor 3 is : 167.22222222222223\n"
     ]
    }
   ],
   "source": [
    "from statsmodels.tools.eval_measures import rmse\n",
    "error = rmse(test['0'],df_forecast_1['0T'])\n",
    "print('Rmse for sensor 0 is :',error,'The mean test values of sensor 0 is :',test['0'].mean())\n",
    "error = rmse(test['1'],df_forecast_1['1T'])\n",
    "print('Rmse for sensor 1 is :',error,'The mean test values of sensor 1 is :',test['1'].mean())\n",
    "error = rmse(test['2'],df_forecast_1['2T'])\n",
    "print('Rmse for sensor 2 is :',error,'The mean test values of sensor 2 is :',test['2'].mean())\n",
    "error = rmse(test['3'],df_forecast_1['3T'])\n",
    "print('Rmse for sensor 3 is :',error,'The mean test values of sensor 3 is :',test['3'].mean())"
   ]
  },
  {
   "cell_type": "markdown",
   "metadata": {},
   "source": [
    "# LSTM with RNN Model\n"
   ]
  },
  {
   "cell_type": "code",
   "execution_count": 611,
   "metadata": {},
   "outputs": [],
   "source": [
    "#creating a copy of the original dataframe as df1\n",
    "df1=df"
   ]
  },
  {
   "cell_type": "code",
   "execution_count": 612,
   "metadata": {},
   "outputs": [],
   "source": [
    "# capping sensor 0 \n",
    "for i in range(len(df1)):\n",
    "    if df1['0'][i] > 115:\n",
    "        df1['0'][i]= 115\n",
    "    elif df1['0'][i] < -80:\n",
    "        df1['0'][i]= -80\n",
    "\n",
    "        \n",
    "#capping sensor 1\n",
    "for i in range(len(df1)):\n",
    "    if df1['1'][i] > 55:\n",
    "        df1['1'][i]= 55\n",
    "    elif df1['1'][i] < -55:\n",
    "        df1['1'][i]= -55\n",
    "\n",
    "#capping sensor 2\n",
    "for i in range(len(df1)):\n",
    "    if df1['2'][i] > 55:\n",
    "        df1['2'][i]= 55\n",
    "    elif df1['2'][i] < -55:\n",
    "        df1['2'][i]= -55\n",
    "        \n",
    "\n",
    "#capping sensor 3\n",
    "for i in range(len(df1)):\n",
    "    if df1['3'][i] > 80:\n",
    "        df1['3'][i]= 80\n",
    "    elif df1['3'][i] < -95:\n",
    "        df1['3'][i]= -95\n"
   ]
  },
  {
   "cell_type": "code",
   "execution_count": 613,
   "metadata": {},
   "outputs": [],
   "source": [
    "#converting to positive values\n",
    "\n",
    "for i in range(len(df1)):\n",
    "    df1['0'][i]=df1['0'][i] + 81\n",
    "\n",
    "for i in range(len(df1)):\n",
    "    df1['1'][i]=df1['1'][i] + 56\n",
    "\n",
    "for i in range(len(df1)):\n",
    "    df1['2'][i]=df1['2'][i] + 56\n",
    "\n",
    "for i in range(len(df1)):\n",
    "    df1['3'][i]=df1['3'][i] + 96\n"
   ]
  },
  {
   "cell_type": "code",
   "execution_count": 614,
   "metadata": {},
   "outputs": [],
   "source": [
    "test_days=3\n",
    "test_ind = 9"
   ]
  },
  {
   "cell_type": "code",
   "execution_count": 615,
   "metadata": {},
   "outputs": [],
   "source": [
    "train = df1.iloc[:-test_ind]\n",
    "test = df1.iloc[-test_ind:]"
   ]
  },
  {
   "cell_type": "code",
   "execution_count": 616,
   "metadata": {},
   "outputs": [],
   "source": [
    "from sklearn.preprocessing import MinMaxScaler\n",
    "from tensorflow.keras.preprocessing.sequence import TimeseriesGenerator\n",
    "from tensorflow.keras.models import Sequential\n",
    "from tensorflow.keras.layers import Dense,LSTM"
   ]
  },
  {
   "cell_type": "code",
   "execution_count": 617,
   "metadata": {},
   "outputs": [
    {
     "data": {
      "text/plain": [
       "MinMaxScaler()"
      ]
     },
     "execution_count": 617,
     "metadata": {},
     "output_type": "execute_result"
    }
   ],
   "source": [
    "# We use MinMaxScaler to scale our data. This gives us a more accurate prediction\n",
    "scaler = MinMaxScaler()\n",
    "scaler.fit(train)"
   ]
  },
  {
   "cell_type": "code",
   "execution_count": 618,
   "metadata": {},
   "outputs": [],
   "source": [
    "scaled_train = scaler.transform(train)\n",
    "scaled_test = scaler.transform(test)"
   ]
  },
  {
   "cell_type": "code",
   "execution_count": 619,
   "metadata": {},
   "outputs": [],
   "source": [
    "length = 3\n",
    "batch_size = 1\n",
    "generator = TimeseriesGenerator(scaled_train,scaled_train, length = length, batch_size = batch_size)"
   ]
  },
  {
   "cell_type": "code",
   "execution_count": 620,
   "metadata": {},
   "outputs": [
    {
     "data": {
      "text/plain": [
       "2991"
      ]
     },
     "execution_count": 620,
     "metadata": {},
     "output_type": "execute_result"
    }
   ],
   "source": [
    "len(scaled_train)"
   ]
  },
  {
   "cell_type": "code",
   "execution_count": 621,
   "metadata": {},
   "outputs": [
    {
     "data": {
      "text/plain": [
       "2988"
      ]
     },
     "execution_count": 621,
     "metadata": {},
     "output_type": "execute_result"
    }
   ],
   "source": [
    "len(generator)"
   ]
  },
  {
   "cell_type": "code",
   "execution_count": 622,
   "metadata": {},
   "outputs": [],
   "source": [
    "X,y = generator[0]"
   ]
  },
  {
   "cell_type": "code",
   "execution_count": 623,
   "metadata": {},
   "outputs": [
    {
     "name": "stdout",
     "output_type": "stream",
     "text": [
      "Given the Array: \n",
      "[0.47497021 0.58020864 0.39285189 0.60036873 0.46576106 0.52543574\n",
      " 0.60511801 0.66792967 0.51843341 0.49414124 0.33794474 0.53508391]\n",
      "Predict this y: \n",
      " [[0.57587719 0.55941731 0.37717887 0.51851934]]\n"
     ]
    }
   ],
   "source": [
    "print(f'Given the Array: \\n{X.flatten()}')\n",
    "print(f'Predict this y: \\n {y}')"
   ]
  },
  {
   "cell_type": "code",
   "execution_count": 624,
   "metadata": {},
   "outputs": [
    {
     "data": {
      "text/plain": [
       "(2991, 4)"
      ]
     },
     "execution_count": 624,
     "metadata": {},
     "output_type": "execute_result"
    }
   ],
   "source": [
    "scaled_train.shape"
   ]
  },
  {
   "cell_type": "code",
   "execution_count": 625,
   "metadata": {},
   "outputs": [],
   "source": [
    "# model\n",
    "model = Sequential()\n",
    "\n",
    "# RNN layer\n",
    "model.add(LSTM(100,input_shape=(length,scaled_train.shape[1])))\n",
    "\n",
    "# Final Prediction (one neuron per feature)\n",
    "model.add(Dense(scaled_train.shape[1]))\n",
    "\n",
    "model.compile(optimizer='adam', loss='mse')"
   ]
  },
  {
   "cell_type": "code",
   "execution_count": 626,
   "metadata": {},
   "outputs": [
    {
     "name": "stdout",
     "output_type": "stream",
     "text": [
      "Model: \"sequential_10\"\n",
      "_________________________________________________________________\n",
      "Layer (type)                 Output Shape              Param #   \n",
      "=================================================================\n",
      "lstm_10 (LSTM)               (None, 100)               42000     \n",
      "_________________________________________________________________\n",
      "dense_10 (Dense)             (None, 4)                 404       \n",
      "=================================================================\n",
      "Total params: 42,404\n",
      "Trainable params: 42,404\n",
      "Non-trainable params: 0\n",
      "_________________________________________________________________\n"
     ]
    }
   ],
   "source": [
    "model.summary()"
   ]
  },
  {
   "cell_type": "code",
   "execution_count": 627,
   "metadata": {},
   "outputs": [],
   "source": [
    "from tensorflow.keras.callbacks import EarlyStopping\n",
    "early_stop = EarlyStopping(monitor='val_loss',patience=1)\n",
    "validation_generator = TimeseriesGenerator(scaled_test,scaled_test, \n",
    "                                           length=length, batch_size=batch_size)"
   ]
  },
  {
   "cell_type": "code",
   "execution_count": 628,
   "metadata": {},
   "outputs": [
    {
     "name": "stdout",
     "output_type": "stream",
     "text": [
      "WARNING:tensorflow:sample_weight modes were coerced from\n",
      "  ...\n",
      "    to  \n",
      "  ['...']\n",
      "WARNING:tensorflow:sample_weight modes were coerced from\n",
      "  ...\n",
      "    to  \n",
      "  ['...']\n",
      "Train for 2988 steps, validate for 6 steps\n",
      "Epoch 1/10\n",
      "2988/2988 [==============================] - 7s 2ms/step - loss: 0.0164 - val_loss: 0.0243\n",
      "Epoch 2/10\n",
      "2988/2988 [==============================] - 6s 2ms/step - loss: 0.0150 - val_loss: 0.0251\n",
      "Epoch 3/10\n",
      "2988/2988 [==============================] - 6s 2ms/step - loss: 0.0148 - val_loss: 0.0249\n",
      "Epoch 4/10\n",
      "2988/2988 [==============================] - 6s 2ms/step - loss: 0.0147 - val_loss: 0.0281\n",
      "Epoch 5/10\n",
      "2988/2988 [==============================] - 6s 2ms/step - loss: 0.0146 - val_loss: 0.0253\n",
      "Epoch 6/10\n",
      "2988/2988 [==============================] - 6s 2ms/step - loss: 0.0145 - val_loss: 0.0265\n",
      "Epoch 7/10\n",
      "2988/2988 [==============================] - 6s 2ms/step - loss: 0.0145 - val_loss: 0.0267\n",
      "Epoch 8/10\n",
      "2988/2988 [==============================] - 6s 2ms/step - loss: 0.0145 - val_loss: 0.0235\n",
      "Epoch 9/10\n",
      "2988/2988 [==============================] - 6s 2ms/step - loss: 0.0145 - val_loss: 0.0259\n",
      "Epoch 10/10\n",
      "2988/2988 [==============================] - 6s 2ms/step - loss: 0.0144 - val_loss: 0.0269\n"
     ]
    },
    {
     "data": {
      "text/plain": [
       "<tensorflow.python.keras.callbacks.History at 0x1ae4a8f40f0>"
      ]
     },
     "execution_count": 628,
     "metadata": {},
     "output_type": "execute_result"
    }
   ],
   "source": [
    "model.fit_generator(generator,epochs=10,\n",
    "                    validation_data=validation_generator)"
   ]
  },
  {
   "cell_type": "code",
   "execution_count": 629,
   "metadata": {},
   "outputs": [
    {
     "data": {
      "text/plain": [
       "dict_keys(['loss', 'val_loss'])"
      ]
     },
     "execution_count": 629,
     "metadata": {},
     "output_type": "execute_result"
    }
   ],
   "source": [
    "model.history.history.keys()"
   ]
  },
  {
   "cell_type": "code",
   "execution_count": 630,
   "metadata": {},
   "outputs": [
    {
     "data": {
      "text/plain": [
       "<AxesSubplot:>"
      ]
     },
     "execution_count": 630,
     "metadata": {},
     "output_type": "execute_result"
    },
    {
     "data": {
      "image/png": "[encoded data removed]",
      "text/plain": [
       "<Figure size 432x288 with 1 Axes>"
      ]
     },
     "metadata": {
      "needs_background": "light"
     },
     "output_type": "display_data"
    }
   ],
   "source": [
    "losses = pd.DataFrame(model.history.history)\n",
    "losses.plot()"
   ]
  },
  {
   "cell_type": "code",
   "execution_count": 631,
   "metadata": {},
   "outputs": [],
   "source": [
    "first_eval_batch = scaled_train[-length:]"
   ]
  },
  {
   "cell_type": "code",
   "execution_count": 632,
   "metadata": {},
   "outputs": [
    {
     "data": {
      "text/plain": [
       "array([[0.41032909, 0.        , 0.50005778, 0.54280313],\n",
       "       [0.41024942, 0.        , 0.49996634, 0.54286193],\n",
       "       [0.41026027, 0.49993634, 1.        , 0.54289371]])"
      ]
     },
     "execution_count": 632,
     "metadata": {},
     "output_type": "execute_result"
    }
   ],
   "source": [
    "first_eval_batch"
   ]
  },
  {
   "cell_type": "code",
   "execution_count": 633,
   "metadata": {},
   "outputs": [],
   "source": [
    "first_eval_batch = first_eval_batch.reshape((1, length, scaled_train.shape[1]))"
   ]
  },
  {
   "cell_type": "code",
   "execution_count": 634,
   "metadata": {},
   "outputs": [
    {
     "data": {
      "text/plain": [
       "array([[0.42390907, 0.49537995, 0.5092985 , 0.5413092 ]], dtype=float32)"
      ]
     },
     "execution_count": 634,
     "metadata": {},
     "output_type": "execute_result"
    }
   ],
   "source": [
    "model.predict(first_eval_batch)"
   ]
  },
  {
   "cell_type": "code",
   "execution_count": 635,
   "metadata": {},
   "outputs": [
    {
     "data": {
      "text/plain": [
       "array([0.41026709, 0.49994847, 0.49997927, 0.54281603])"
      ]
     },
     "execution_count": 635,
     "metadata": {},
     "output_type": "execute_result"
    }
   ],
   "source": [
    "scaled_test[0]"
   ]
  },
  {
   "cell_type": "code",
   "execution_count": 636,
   "metadata": {},
   "outputs": [],
   "source": [
    "n_features = scaled_train.shape[1]\n",
    "test_predictions = []\n",
    "\n",
    "first_eval_batch = scaled_train[-length:]\n",
    "current_batch = first_eval_batch.reshape((1, length, n_features))\n",
    "\n",
    "for i in range(len(test)):\n",
    "    \n",
    "    # get prediction 1 time stamp ahead ([0] is for grabbing just the number instead of [array])\n",
    "    current_pred = model.predict(current_batch)[0]\n",
    "    \n",
    "    # store prediction\n",
    "    test_predictions.append(current_pred) \n",
    "    \n",
    "    # update batch to now include prediction and drop first value\n",
    "    current_batch = np.append(current_batch[:,1:,:],[[current_pred]],axis=1)"
   ]
  },
  {
   "cell_type": "code",
   "execution_count": 637,
   "metadata": {},
   "outputs": [
    {
     "data": {
      "text/plain": [
       "[array([0.42390907, 0.49537995, 0.5092985 , 0.5413092 ], dtype=float32),\n",
       " array([0.4238382 , 0.50132895, 0.477274  , 0.5443471 ], dtype=float32),\n",
       " array([0.43247467, 0.52069724, 0.48415303, 0.560948  ], dtype=float32),\n",
       " array([0.44047475, 0.5047542 , 0.48258632, 0.5507803 ], dtype=float32),\n",
       " array([0.4424864 , 0.5032335 , 0.4818583 , 0.54963386], dtype=float32),\n",
       " array([0.44396698, 0.50285304, 0.48279893, 0.55041474], dtype=float32),\n",
       " array([0.44443023, 0.5016261 , 0.48266917, 0.54957783], dtype=float32),\n",
       " array([0.44465876, 0.5013427 , 0.48264778, 0.54938316], dtype=float32),\n",
       " array([0.44479322, 0.5012236 , 0.482706  , 0.5493835 ], dtype=float32)]"
      ]
     },
     "execution_count": 637,
     "metadata": {},
     "output_type": "execute_result"
    }
   ],
   "source": [
    "test_predictions"
   ]
  },
  {
   "cell_type": "code",
   "execution_count": 638,
   "metadata": {},
   "outputs": [
    {
     "data": {
      "text/plain": [
       "array([[0.41026709, 0.49994847, 0.49997927, 0.54281603],\n",
       "       [0.4101982 , 0.50015448, 0.50011309, 0.54289765],\n",
       "       [0.41021987, 0.4999973 , 0.49995624, 0.54288378],\n",
       "       [0.41021739, 0.50001767, 0.5001329 , 0.        ],\n",
       "       [0.        , 0.50019679, 0.5000889 , 0.54294758],\n",
       "       [0.        , 0.50008627, 0.49997226, 0.54301908],\n",
       "       [0.4102179 , 0.49967262, 0.49987971, 0.54286789],\n",
       "       [0.41025814, 0.49998129, 0.49993368, 0.54286698],\n",
       "       [0.41025404, 0.4999785 , 0.50011422, 0.5429712 ]])"
      ]
     },
     "execution_count": 638,
     "metadata": {},
     "output_type": "execute_result"
    }
   ],
   "source": [
    "scaled_test"
   ]
  },
  {
   "cell_type": "code",
   "execution_count": 639,
   "metadata": {},
   "outputs": [],
   "source": [
    "true_predictions = scaler.inverse_transform(test_predictions)\n",
    "descaled_test    = scaler.inverse_transform(scaled_test)"
   ]
  },
  {
   "cell_type": "code",
   "execution_count": 640,
   "metadata": {},
   "outputs": [],
   "source": [
    "# create a dataframe called df_forecast_2 to store the predicted values\n",
    "idx=pd.date_range('2021-09-24 07:58:43',periods = 9,freq ='28809S')\n",
    "df_forecast_2 = pd.DataFrame(true_predictions, index = idx , columns = ['0T','1T','2T','3T'])"
   ]
  },
  {
   "cell_type": "code",
   "execution_count": 641,
   "metadata": {},
   "outputs": [],
   "source": [
    "#scaled test df to compare as scaled_test_compare\n",
    "\n",
    "idx=pd.date_range('2021-09-24 07:58:43',periods = 9,freq ='28809S')\n",
    "scaled_test_compare = pd.DataFrame(descaled_test, index = idx , columns = ['0','1','2','3'])"
   ]
  },
  {
   "cell_type": "code",
   "execution_count": 642,
   "metadata": {},
   "outputs": [
    {
     "name": "stdout",
     "output_type": "stream",
     "text": [
      "Rmse for sensor 0 is : 41.01858880649659 The mean test values of sensor 0 is : 63.21870698711112\n",
      "Rmse for sensor 1 is : 0.8176492595578422 The mean test values of sensor 1 is : 56.00040807911111\n",
      "Rmse for sensor 2 is : 1.902227709510153 The mean test values of sensor 2 is : 56.002081082\n",
      "Rmse for sensor 3 is : 32.15842263387756 The mean test values of sensor 3 is : 85.45247606433333\n"
     ]
    }
   ],
   "source": [
    "from statsmodels.tools.eval_measures import rmse\n",
    "error = rmse(scaled_test_compare['0'],df_forecast_2['0T'])\n",
    "print('Rmse for sensor 0 is :',error,'The mean test values of sensor 0 is :',scaled_test_compare['0'].mean())\n",
    "error = rmse(scaled_test_compare['1'],df_forecast_2['1T'])\n",
    "print('Rmse for sensor 1 is :',error,'The mean test values of sensor 1 is :',scaled_test_compare['1'].mean())\n",
    "error = rmse(scaled_test_compare['2'],df_forecast_2['2T'])\n",
    "print('Rmse for sensor 2 is :',error,'The mean test values of sensor 2 is :',scaled_test_compare['2'].mean())\n",
    "error = rmse(scaled_test_compare['3'],df_forecast_2['3T'])\n",
    "print('Rmse for sensor 3 is :',error,'The mean test values of sensor 3 is :',scaled_test_compare['3'].mean())"
   ]
  },
  {
   "cell_type": "code",
   "execution_count": 643,
   "metadata": {},
   "outputs": [
    {
     "data": {
      "text/plain": [
       "<AxesSubplot:>"
      ]
     },
     "execution_count": 643,
     "metadata": {},
     "output_type": "execute_result"
    },
    {
     "data": {
      "image/png": "[encoded data removed]",
      "text/plain": [
       "<Figure size 432x288 with 1 Axes>"
      ]
     },
     "metadata": {
      "needs_background": "light"
     },
     "output_type": "display_data"
    }
   ],
   "source": [
    "df_forecast_2['0T'].plot()\n",
    "scaled_test_compare['0'].plot()"
   ]
  },
  {
   "cell_type": "code",
   "execution_count": 644,
   "metadata": {},
   "outputs": [
    {
     "data": {
      "text/plain": [
       "<AxesSubplot:>"
      ]
     },
     "execution_count": 644,
     "metadata": {},
     "output_type": "execute_result"
    },
    {
     "data": {
      "image/png": "[encoded data removed]",
      "text/plain": [
       "<Figure size 432x288 with 1 Axes>"
      ]
     },
     "metadata": {
      "needs_background": "light"
     },
     "output_type": "display_data"
    }
   ],
   "source": [
    "df_forecast_2['1T'].plot()\n",
    "scaled_test_compare['1'].plot()"
   ]
  },
  {
   "cell_type": "code",
   "execution_count": 645,
   "metadata": {},
   "outputs": [
    {
     "data": {
      "text/plain": [
       "<AxesSubplot:>"
      ]
     },
     "execution_count": 645,
     "metadata": {},
     "output_type": "execute_result"
    },
    {
     "data": {
      "image/png": "[encoded data removed]",
      "text/plain": [
       "<Figure size 432x288 with 1 Axes>"
      ]
     },
     "metadata": {
      "needs_background": "light"
     },
     "output_type": "display_data"
    }
   ],
   "source": [
    "df_forecast_2['2T'].plot()\n",
    "scaled_test_compare['2'].plot()"
   ]
  },
  {
   "cell_type": "code",
   "execution_count": 646,
   "metadata": {},
   "outputs": [
    {
     "data": {
      "text/plain": [
       "<AxesSubplot:>"
      ]
     },
     "execution_count": 646,
     "metadata": {},
     "output_type": "execute_result"
    },
    {
     "data": {
      "image/png": "[encoded data removed]",
      "text/plain": [
       "<Figure size 432x288 with 1 Axes>"
      ]
     },
     "metadata": {
      "needs_background": "light"
     },
     "output_type": "display_data"
    }
   ],
   "source": [
    "df_forecast_2['3T'].plot()\n",
    "scaled_test_compare['3'].plot()"
   ]
  },
  {
   "cell_type": "markdown",
   "metadata": {},
   "source": [
    "## We find that among the models implemented. The LSTM with RNN model performs the best.\n"
   ]
  },
  {
   "cell_type": "markdown",
   "metadata": {},
   "source": [
    "### Hence we use it for predicting future values and alerting us of a fault in the machine"
   ]
  },
  {
   "cell_type": "markdown",
   "metadata": {},
   "source": [
    "# Final Prediction and Fault Detection"
   ]
  },
  {
   "cell_type": "code",
   "execution_count": 581,
   "metadata": {},
   "outputs": [],
   "source": [
    "df_final = df"
   ]
  },
  {
   "cell_type": "code",
   "execution_count": 582,
   "metadata": {},
   "outputs": [],
   "source": [
    "# capping sensor 0 \n",
    "for i in range(len(df_final)):\n",
    "    if df_final['0'][i] > 115:\n",
    "        df_final['0'][i]= 115\n",
    "    elif df_final['0'][i] < -80:\n",
    "        df_final['0'][i]= -80\n",
    "\n",
    "        \n",
    "#capping sensor 1\n",
    "for i in range(len(df_final)):\n",
    "    if df_final['1'][i] > 55:\n",
    "        df_final['1'][i]= 55\n",
    "    elif df_final['1'][i] < -55:\n",
    "        df_final['1'][i]= -55\n",
    "\n",
    "#capping sensor 2\n",
    "for i in range(len(df_final)):\n",
    "    if df_final['2'][i] > 55:\n",
    "        df_final['2'][i]= 55\n",
    "    elif df_final['2'][i] < -55:\n",
    "        df_final['2'][i]= -55\n",
    "        \n",
    "\n",
    "#capping sensor 3\n",
    "for i in range(len(df_final)):\n",
    "    if df_final['3'][i] > 80:\n",
    "        df_final['3'][i]= 80\n",
    "    elif df_final['3'][i] < -95:\n",
    "        df_final['3'][i]= -95\n"
   ]
  },
  {
   "cell_type": "code",
   "execution_count": 583,
   "metadata": {},
   "outputs": [],
   "source": [
    "#converting to positive values\n",
    "\n",
    "for i in range(len(df_final)):\n",
    "    df_final['0'][i]=df_final['0'][i] + 81\n",
    "\n",
    "for i in range(len(df1)):\n",
    "    df_final['1'][i]=df_final['1'][i] + 56\n",
    "\n",
    "for i in range(len(df1)):\n",
    "    df_final['2'][i]=df_final['2'][i] + 56\n",
    "\n",
    "for i in range(len(df1)):\n",
    "    df_final['3'][i]=df_final['3'][i] + 96\n"
   ]
  },
  {
   "cell_type": "markdown",
   "metadata": {},
   "source": [
    "### We train the data on the entire dataset to predict the future values"
   ]
  },
  {
   "cell_type": "code",
   "execution_count": 584,
   "metadata": {},
   "outputs": [],
   "source": [
    "train = df_final"
   ]
  },
  {
   "cell_type": "code",
   "execution_count": 585,
   "metadata": {},
   "outputs": [
    {
     "data": {
      "text/plain": [
       "MinMaxScaler()"
      ]
     },
     "execution_count": 585,
     "metadata": {},
     "output_type": "execute_result"
    }
   ],
   "source": [
    "scaler = MinMaxScaler()\n",
    "scaler.fit(train)"
   ]
  },
  {
   "cell_type": "code",
   "execution_count": 586,
   "metadata": {},
   "outputs": [],
   "source": [
    "scaled_train = scaler.transform(train)\n",
    "# let's take 10 % of the data for validation that is 300 rows\n",
    "val_gen =scaler.transform(train[-300:]) "
   ]
  },
  {
   "cell_type": "code",
   "execution_count": 587,
   "metadata": {},
   "outputs": [],
   "source": [
    "length = 3\n",
    "batch_size = 1\n",
    "generator = TimeseriesGenerator(scaled_train,scaled_train, length = length, batch_size = batch_size)"
   ]
  },
  {
   "cell_type": "code",
   "execution_count": 588,
   "metadata": {},
   "outputs": [],
   "source": [
    "X,y = generator[0]"
   ]
  },
  {
   "cell_type": "code",
   "execution_count": 589,
   "metadata": {},
   "outputs": [
    {
     "name": "stdout",
     "output_type": "stream",
     "text": [
      "Given the Array: \n",
      "[0.47497021 0.58020864 0.39285189 0.60036873 0.46576106 0.52543574\n",
      " 0.60511801 0.66792967 0.51843341 0.49414124 0.33794474 0.53508391]\n",
      "Predict this y: \n",
      " [[0.57587719 0.55941731 0.37717887 0.51851934]]\n"
     ]
    }
   ],
   "source": [
    "print(f'Given the Array: \\n{X.flatten()}')\n",
    "print(f'Predict this y: \\n {y}')"
   ]
  },
  {
   "cell_type": "code",
   "execution_count": 590,
   "metadata": {},
   "outputs": [
    {
     "data": {
      "text/plain": [
       "(3000, 4)"
      ]
     },
     "execution_count": 590,
     "metadata": {},
     "output_type": "execute_result"
    }
   ],
   "source": [
    "scaled_train.shape"
   ]
  },
  {
   "cell_type": "code",
   "execution_count": 591,
   "metadata": {},
   "outputs": [],
   "source": [
    "# define model\n",
    "model = Sequential()\n",
    "\n",
    "# Simple RNN layer\n",
    "model.add(LSTM(100,input_shape=(length,scaled_train.shape[1])))\n",
    "\n",
    "# Final Prediction (one neuron per feature)\n",
    "model.add(Dense(scaled_train.shape[1]))\n",
    "\n",
    "model.compile(optimizer='adam', loss='mse')"
   ]
  },
  {
   "cell_type": "code",
   "execution_count": 592,
   "metadata": {},
   "outputs": [
    {
     "name": "stdout",
     "output_type": "stream",
     "text": [
      "Model: \"sequential_9\"\n",
      "_________________________________________________________________\n",
      "Layer (type)                 Output Shape              Param #   \n",
      "=================================================================\n",
      "lstm_9 (LSTM)                (None, 100)               42000     \n",
      "_________________________________________________________________\n",
      "dense_9 (Dense)              (None, 4)                 404       \n",
      "=================================================================\n",
      "Total params: 42,404\n",
      "Trainable params: 42,404\n",
      "Non-trainable params: 0\n",
      "_________________________________________________________________\n"
     ]
    }
   ],
   "source": [
    "model.summary()"
   ]
  },
  {
   "cell_type": "code",
   "execution_count": 593,
   "metadata": {},
   "outputs": [],
   "source": [
    "from tensorflow.keras.callbacks import EarlyStopping\n",
    "early_stop = EarlyStopping(monitor='val_loss',patience=1)\n",
    "validation_generator = TimeseriesGenerator(val_gen,val_gen, \n",
    "                                           length=length, batch_size=batch_size)"
   ]
  },
  {
   "cell_type": "code",
   "execution_count": 594,
   "metadata": {},
   "outputs": [
    {
     "name": "stdout",
     "output_type": "stream",
     "text": [
      "WARNING:tensorflow:sample_weight modes were coerced from\n",
      "  ...\n",
      "    to  \n",
      "  ['...']\n",
      "WARNING:tensorflow:sample_weight modes were coerced from\n",
      "  ...\n",
      "    to  \n",
      "  ['...']\n",
      "Train for 2997 steps, validate for 297 steps\n",
      "Epoch 1/10\n",
      "2997/2997 [==============================] - 8s 3ms/step - loss: 0.0163 - val_loss: 0.0143\n",
      "Epoch 2/10\n",
      "2997/2997 [==============================] - 6s 2ms/step - loss: 0.0150 - val_loss: 0.0139\n",
      "Epoch 3/10\n",
      "2997/2997 [==============================] - 6s 2ms/step - loss: 0.0148 - val_loss: 0.0140\n",
      "Epoch 4/10\n",
      "2997/2997 [==============================] - 6s 2ms/step - loss: 0.0146 - val_loss: 0.0137\n",
      "Epoch 5/10\n",
      "2997/2997 [==============================] - 6s 2ms/step - loss: 0.0146 - val_loss: 0.0137\n",
      "Epoch 6/10\n",
      "2997/2997 [==============================] - 6s 2ms/step - loss: 0.0146 - val_loss: 0.0141\n",
      "Epoch 7/10\n",
      "2997/2997 [==============================] - 6s 2ms/step - loss: 0.0145 - val_loss: 0.0139\n",
      "Epoch 8/10\n",
      "2997/2997 [==============================] - 6s 2ms/step - loss: 0.0145 - val_loss: 0.0139\n",
      "Epoch 9/10\n",
      "2997/2997 [==============================] - 6s 2ms/step - loss: 0.0145 - val_loss: 0.0136\n",
      "Epoch 10/10\n",
      "2997/2997 [==============================] - 6s 2ms/step - loss: 0.0144 - val_loss: 0.0136\n"
     ]
    },
    {
     "data": {
      "text/plain": [
       "<tensorflow.python.keras.callbacks.History at 0x1ae4644aa58>"
      ]
     },
     "execution_count": 594,
     "metadata": {},
     "output_type": "execute_result"
    }
   ],
   "source": [
    "model.fit_generator(generator,epochs=10,\n",
    "                    validation_data=validation_generator)"
   ]
  },
  {
   "cell_type": "code",
   "execution_count": 595,
   "metadata": {},
   "outputs": [
    {
     "data": {
      "text/plain": [
       "dict_keys(['loss', 'val_loss'])"
      ]
     },
     "execution_count": 595,
     "metadata": {},
     "output_type": "execute_result"
    }
   ],
   "source": [
    "model.history.history.keys()"
   ]
  },
  {
   "cell_type": "code",
   "execution_count": 596,
   "metadata": {},
   "outputs": [
    {
     "data": {
      "text/plain": [
       "<AxesSubplot:>"
      ]
     },
     "execution_count": 596,
     "metadata": {},
     "output_type": "execute_result"
    },
    {
     "data": {
      "image/png": "[encoded data removed]",
      "text/plain": [
       "<Figure size 432x288 with 1 Axes>"
      ]
     },
     "metadata": {
      "needs_background": "light"
     },
     "output_type": "display_data"
    }
   ],
   "source": [
    "losses = pd.DataFrame(model.history.history)\n",
    "losses.plot()"
   ]
  },
  {
   "cell_type": "code",
   "execution_count": 597,
   "metadata": {},
   "outputs": [],
   "source": [
    "n_features = scaled_train.shape[1]\n",
    "final_predictions = []\n",
    "\n",
    "first_eval_batch = scaled_train[-length:]\n",
    "current_batch = first_eval_batch.reshape((1, length, n_features))\n",
    "\n",
    "for i in range(9):\n",
    "    \n",
    "    # get prediction 1 time stamp ahead ([0] is for grabbing just the number instead of [array])\n",
    "    current_pred = model.predict(current_batch)[0]\n",
    "    \n",
    "    # store prediction\n",
    "    final_predictions.append(current_pred) \n",
    "    \n",
    "    # update batch to now include prediction and drop first value\n",
    "    current_batch = np.append(current_batch[:,1:,:],[[current_pred]],axis=1)"
   ]
  },
  {
   "cell_type": "code",
   "execution_count": 598,
   "metadata": {},
   "outputs": [],
   "source": [
    "final_predictions = scaler.inverse_transform(final_predictions)"
   ]
  },
  {
   "cell_type": "code",
   "execution_count": 599,
   "metadata": {},
   "outputs": [
    {
     "data": {
      "text/plain": [
       "array([[79.15239489, 54.09124231, 55.53977227, 94.34499985],\n",
       "       [78.96807304, 54.02889317, 55.48020637, 94.2700336 ],\n",
       "       [78.87300929, 53.97848672, 55.41188753, 94.17845106],\n",
       "       [78.83167243, 53.94554025, 55.38301921, 94.13047975],\n",
       "       [78.82400131, 53.94195384, 55.37683642, 94.12424213],\n",
       "       [78.82038659, 53.9386887 , 55.3737942 , 94.11964214],\n",
       "       [78.81916618, 53.93729544, 55.37268615, 94.11781675],\n",
       "       [78.8189221 , 53.9369545 , 55.37240422, 94.11739951],\n",
       "       [78.8188175 , 53.93676436, 55.37229276, 94.11717004]])"
      ]
     },
     "execution_count": 599,
     "metadata": {},
     "output_type": "execute_result"
    }
   ],
   "source": [
    "final_predictions"
   ]
  },
  {
   "cell_type": "code",
   "execution_count": 600,
   "metadata": {},
   "outputs": [],
   "source": [
    "# create a dataframe df_forecast_final to store all the predicted values and respective index\n",
    "idx=pd.date_range('2021-09-27 00:00:00',periods = 9,freq ='28809S')\n",
    "df_forecast_final = pd.DataFrame(final_predictions, index = idx , columns = ['0T','1T','2T','3T'])"
   ]
  },
  {
   "cell_type": "code",
   "execution_count": 601,
   "metadata": {},
   "outputs": [
    {
     "data": {
      "text/html": [
       "<div>\n",
       "<style scoped>\n",
       "    .dataframe tbody tr th:only-of-type {\n",
       "        vertical-align: middle;\n",
       "    }\n",
       "\n",
       "    .dataframe tbody tr th {\n",
       "        vertical-align: top;\n",
       "    }\n",
       "\n",
       "    .dataframe thead th {\n",
       "        text-align: right;\n",
       "    }\n",
       "</style>\n",
       "<table border=\"1\" class=\"dataframe\">\n",
       "  <thead>\n",
       "    <tr style=\"text-align: right;\">\n",
       "      <th></th>\n",
       "      <th>0T</th>\n",
       "      <th>1T</th>\n",
       "      <th>2T</th>\n",
       "      <th>3T</th>\n",
       "    </tr>\n",
       "  </thead>\n",
       "  <tbody>\n",
       "    <tr>\n",
       "      <th>2021-09-27 00:00:00</th>\n",
       "      <td>79.152395</td>\n",
       "      <td>54.091242</td>\n",
       "      <td>55.539772</td>\n",
       "      <td>94.345000</td>\n",
       "    </tr>\n",
       "    <tr>\n",
       "      <th>2021-09-27 08:00:09</th>\n",
       "      <td>78.968073</td>\n",
       "      <td>54.028893</td>\n",
       "      <td>55.480206</td>\n",
       "      <td>94.270034</td>\n",
       "    </tr>\n",
       "    <tr>\n",
       "      <th>2021-09-27 16:00:18</th>\n",
       "      <td>78.873009</td>\n",
       "      <td>53.978487</td>\n",
       "      <td>55.411888</td>\n",
       "      <td>94.178451</td>\n",
       "    </tr>\n",
       "    <tr>\n",
       "      <th>2021-09-28 00:00:27</th>\n",
       "      <td>78.831672</td>\n",
       "      <td>53.945540</td>\n",
       "      <td>55.383019</td>\n",
       "      <td>94.130480</td>\n",
       "    </tr>\n",
       "    <tr>\n",
       "      <th>2021-09-28 08:00:36</th>\n",
       "      <td>78.824001</td>\n",
       "      <td>53.941954</td>\n",
       "      <td>55.376836</td>\n",
       "      <td>94.124242</td>\n",
       "    </tr>\n",
       "    <tr>\n",
       "      <th>2021-09-28 16:00:45</th>\n",
       "      <td>78.820387</td>\n",
       "      <td>53.938689</td>\n",
       "      <td>55.373794</td>\n",
       "      <td>94.119642</td>\n",
       "    </tr>\n",
       "    <tr>\n",
       "      <th>2021-09-29 00:00:54</th>\n",
       "      <td>78.819166</td>\n",
       "      <td>53.937295</td>\n",
       "      <td>55.372686</td>\n",
       "      <td>94.117817</td>\n",
       "    </tr>\n",
       "    <tr>\n",
       "      <th>2021-09-29 08:01:03</th>\n",
       "      <td>78.818922</td>\n",
       "      <td>53.936954</td>\n",
       "      <td>55.372404</td>\n",
       "      <td>94.117400</td>\n",
       "    </tr>\n",
       "    <tr>\n",
       "      <th>2021-09-29 16:01:12</th>\n",
       "      <td>78.818817</td>\n",
       "      <td>53.936764</td>\n",
       "      <td>55.372293</td>\n",
       "      <td>94.117170</td>\n",
       "    </tr>\n",
       "  </tbody>\n",
       "</table>\n",
       "</div>"
      ],
      "text/plain": [
       "                            0T         1T         2T         3T\n",
       "2021-09-27 00:00:00  79.152395  54.091242  55.539772  94.345000\n",
       "2021-09-27 08:00:09  78.968073  54.028893  55.480206  94.270034\n",
       "2021-09-27 16:00:18  78.873009  53.978487  55.411888  94.178451\n",
       "2021-09-28 00:00:27  78.831672  53.945540  55.383019  94.130480\n",
       "2021-09-28 08:00:36  78.824001  53.941954  55.376836  94.124242\n",
       "2021-09-28 16:00:45  78.820387  53.938689  55.373794  94.119642\n",
       "2021-09-29 00:00:54  78.819166  53.937295  55.372686  94.117817\n",
       "2021-09-29 08:01:03  78.818922  53.936954  55.372404  94.117400\n",
       "2021-09-29 16:01:12  78.818817  53.936764  55.372293  94.117170"
      ]
     },
     "execution_count": 601,
     "metadata": {},
     "output_type": "execute_result"
    }
   ],
   "source": [
    "df_forecast_final"
   ]
  },
  {
   "cell_type": "code",
   "execution_count": 602,
   "metadata": {},
   "outputs": [],
   "source": [
    "# undo the convert to positive values\n",
    "\n",
    "for i in range(len(df_forecast_final)):\n",
    "    df_forecast_final['0T'][i]=df_forecast_final['0T'][i] - 81\n",
    "\n",
    "for i in range(len(df_forecast_final)):\n",
    "    df_forecast_final['1T'][i]=df_forecast_final['1T'][i] - 56\n",
    "\n",
    "for i in range(len(df_forecast_final)):\n",
    "    df_forecast_final['2T'][i]=df_forecast_final['2T'][i] - 56\n",
    "\n",
    "for i in range(len(df_forecast_final)):\n",
    "    df_forecast_final['3T'][i]=df_forecast_final['3T'][i] - 96\n"
   ]
  },
  {
   "cell_type": "code",
   "execution_count": 603,
   "metadata": {},
   "outputs": [
    {
     "data": {
      "text/html": [
       "<div>\n",
       "<style scoped>\n",
       "    .dataframe tbody tr th:only-of-type {\n",
       "        vertical-align: middle;\n",
       "    }\n",
       "\n",
       "    .dataframe tbody tr th {\n",
       "        vertical-align: top;\n",
       "    }\n",
       "\n",
       "    .dataframe thead th {\n",
       "        text-align: right;\n",
       "    }\n",
       "</style>\n",
       "<table border=\"1\" class=\"dataframe\">\n",
       "  <thead>\n",
       "    <tr style=\"text-align: right;\">\n",
       "      <th></th>\n",
       "      <th>0T</th>\n",
       "      <th>1T</th>\n",
       "      <th>2T</th>\n",
       "      <th>3T</th>\n",
       "    </tr>\n",
       "  </thead>\n",
       "  <tbody>\n",
       "    <tr>\n",
       "      <th>2021-09-27 00:00:00</th>\n",
       "      <td>-1.847605</td>\n",
       "      <td>-1.908758</td>\n",
       "      <td>-0.460228</td>\n",
       "      <td>-1.655000</td>\n",
       "    </tr>\n",
       "    <tr>\n",
       "      <th>2021-09-27 08:00:09</th>\n",
       "      <td>-2.031927</td>\n",
       "      <td>-1.971107</td>\n",
       "      <td>-0.519794</td>\n",
       "      <td>-1.729966</td>\n",
       "    </tr>\n",
       "    <tr>\n",
       "      <th>2021-09-27 16:00:18</th>\n",
       "      <td>-2.126991</td>\n",
       "      <td>-2.021513</td>\n",
       "      <td>-0.588112</td>\n",
       "      <td>-1.821549</td>\n",
       "    </tr>\n",
       "    <tr>\n",
       "      <th>2021-09-28 00:00:27</th>\n",
       "      <td>-2.168328</td>\n",
       "      <td>-2.054460</td>\n",
       "      <td>-0.616981</td>\n",
       "      <td>-1.869520</td>\n",
       "    </tr>\n",
       "    <tr>\n",
       "      <th>2021-09-28 08:00:36</th>\n",
       "      <td>-2.175999</td>\n",
       "      <td>-2.058046</td>\n",
       "      <td>-0.623164</td>\n",
       "      <td>-1.875758</td>\n",
       "    </tr>\n",
       "    <tr>\n",
       "      <th>2021-09-28 16:00:45</th>\n",
       "      <td>-2.179613</td>\n",
       "      <td>-2.061311</td>\n",
       "      <td>-0.626206</td>\n",
       "      <td>-1.880358</td>\n",
       "    </tr>\n",
       "    <tr>\n",
       "      <th>2021-09-29 00:00:54</th>\n",
       "      <td>-2.180834</td>\n",
       "      <td>-2.062705</td>\n",
       "      <td>-0.627314</td>\n",
       "      <td>-1.882183</td>\n",
       "    </tr>\n",
       "    <tr>\n",
       "      <th>2021-09-29 08:01:03</th>\n",
       "      <td>-2.181078</td>\n",
       "      <td>-2.063046</td>\n",
       "      <td>-0.627596</td>\n",
       "      <td>-1.882600</td>\n",
       "    </tr>\n",
       "    <tr>\n",
       "      <th>2021-09-29 16:01:12</th>\n",
       "      <td>-2.181183</td>\n",
       "      <td>-2.063236</td>\n",
       "      <td>-0.627707</td>\n",
       "      <td>-1.882830</td>\n",
       "    </tr>\n",
       "  </tbody>\n",
       "</table>\n",
       "</div>"
      ],
      "text/plain": [
       "                           0T        1T        2T        3T\n",
       "2021-09-27 00:00:00 -1.847605 -1.908758 -0.460228 -1.655000\n",
       "2021-09-27 08:00:09 -2.031927 -1.971107 -0.519794 -1.729966\n",
       "2021-09-27 16:00:18 -2.126991 -2.021513 -0.588112 -1.821549\n",
       "2021-09-28 00:00:27 -2.168328 -2.054460 -0.616981 -1.869520\n",
       "2021-09-28 08:00:36 -2.175999 -2.058046 -0.623164 -1.875758\n",
       "2021-09-28 16:00:45 -2.179613 -2.061311 -0.626206 -1.880358\n",
       "2021-09-29 00:00:54 -2.180834 -2.062705 -0.627314 -1.882183\n",
       "2021-09-29 08:01:03 -2.181078 -2.063046 -0.627596 -1.882600\n",
       "2021-09-29 16:01:12 -2.181183 -2.063236 -0.627707 -1.882830"
      ]
     },
     "execution_count": 603,
     "metadata": {},
     "output_type": "execute_result"
    }
   ],
   "source": [
    "df_forecast_final"
   ]
  },
  {
   "cell_type": "code",
   "execution_count": 604,
   "metadata": {},
   "outputs": [],
   "source": [
    "# store the predicted values in the final dataframe \n",
    "df_forecast_final.index = pd.to_datetime(df_forecast_final.index)\n",
    "final=pd.DataFrame(df_forecast_final.index.values)"
   ]
  },
  {
   "cell_type": "markdown",
   "metadata": {},
   "source": [
    "### We Assume the Faulty threshold to be -0.6 to 0.6 (This completely depends on the company and requirements)"
   ]
  },
  {
   "cell_type": "code",
   "execution_count": 606,
   "metadata": {},
   "outputs": [
    {
     "name": "stdout",
     "output_type": "stream",
     "text": [
      "Fault detected at 2021-09-27 00:00:00\n",
      "Fault detected at 2021-09-27 08:00:09\n",
      "Fault detected at 2021-09-27 16:00:18\n"
     ]
    }
   ],
   "source": [
    "df_f = df_forecast_final\n",
    "for i in range(len(df_f)):\n",
    "    if df_f['0T'][i]==0 and df_f['1T'][i]==0 and df_f['2T'][i]==0 and df_f['3T'][i]==0 :\n",
    "        print('Machine Failed')\n",
    "    elif  df_f['0T'][i]<0.07 and df_f['0T'][i]>-0.6 or df_f['1T'][i]<0.6 and df_f['1T'][i]>-0.6 or df_f['2T'][i]<0.6 and df_f['2T'][i]>-0.6 or df_f['3T'][i]<0.6 and df_f['3T'][i]>-0.6 :\n",
    "        print(\"Fault detected at\",str(final[0][i]))"
   ]
  },
  {
   "cell_type": "markdown",
   "metadata": {},
   "source": [
    "### We predicted the sensor values 3 days into the future and tried detecting faults with the values\n",
    "### We see that the faults are detected at the timings above.\n",
    "### This will be reported to the person incharge or management so that they can take the neccessary action."
   ]
  }
 ],
 "metadata": {
  "kernelspec": {
   "display_name": "Python 3",
   "language": "python",
   "name": "python3"
  },
  "language_info": {
   "codemirror_mode": {
    "name": "ipython",
    "version": 3
   },
   "file_extension": ".py",
   "mimetype": "text/x-python",
   "name": "python",
   "nbconvert_exporter": "python",
   "pygments_lexer": "ipython3",
   "version": "3.6.12"
  }
 },
 "nbformat": 4,
 "nbformat_minor": 4
}
